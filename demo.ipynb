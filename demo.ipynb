{
 "cells": [
  {
   "cell_type": "code",
   "execution_count": 5,
   "metadata": {},
   "outputs": [],
   "source": [
    "from notebooks.utilities.STC_grid_search import *\n",
    "\n",
    "import pandas as pd\n",
    "import numpy as np\n",
    "\n",
    "from sklearn.ensemble import RandomForestClassifier"
   ]
  },
  {
   "cell_type": "code",
   "execution_count": 6,
   "metadata": {},
   "outputs": [],
   "source": [
    "# select device to run this on\n",
    "device = \"cuda\" if torch.cuda.is_available() else \"cpu\""
   ]
  },
  {
   "cell_type": "code",
   "execution_count": 7,
   "metadata": {},
   "outputs": [],
   "source": [
    "# select model\n",
    "model = RandomForestClassifier(random_state = 18)\n",
    "\n",
    "# input dictionary corresponding to parameters & ranges to test\n",
    "param_dict = {'max_depth':[2, 3, 4, 5, 6, 10, None],\n",
    "              'max_features': ['sqrt', 'log2', 1, 3, 5, 7, 9, None],\n",
    "              'n_estimators': [5, 10, 25, 50, 100],\n",
    "              'min_samples_split': [2, 4, 8, 16, 32, 64, 128, 256]}"
   ]
  },
  {
   "cell_type": "code",
   "execution_count": 9,
   "metadata": {},
   "outputs": [
    {
     "name": "stdout",
     "output_type": "stream",
     "text": [
      "X Shape: (2149, 32); Y Shape: (2149,)\n"
     ]
    }
   ],
   "source": [
    "# read data\n",
    "data = np.array(pd.read_csv(\"classification_datasets/alzheimers_disease_data.csv\"))\n",
    "\n",
    "# put data into features & target format\n",
    "x = data[:, :-1]\n",
    "y = data[:, -1]\n",
    "\n",
    "del data\n",
    "\n",
    "# select a subset of data if necessary\n",
    "x, y = get_subset(x = x, y = y, portion = 1.0, random_state = 18)\n",
    "\n",
    "print(f\"X Shape: {x.shape}; Y Shape: {y.shape}\")"
   ]
  },
  {
   "cell_type": "code",
   "execution_count": 10,
   "metadata": {},
   "outputs": [
    {
     "name": "stdout",
     "output_type": "stream",
     "text": [
      "Done!\n"
     ]
    }
   ],
   "source": [
    "# run function to approximate best parameter combinations using Sparse Tensor Completion\n",
    "best_estimated_params= return_best_k_params(model = model, \n",
    "                                            param_dict = param_dict,\n",
    "                                            X = x,\n",
    "                                            Y = y,\n",
    "                                            num_top_combinations = 15,     # number of best estimated combinations to return\n",
    "                                            cv_splits = 5,                 # how many CV folds\n",
    "                                            portion_of_combinations = 0.05,# proportion of total combinations to compute to estimate all\n",
    "                                            STC_model_type = 'costco',     # sparse tensor completion model\n",
    "                                            rank = 25,                     # rank decomposition used for tensor completion\n",
    "                                            device = device,\n",
    "                                            verbose = False)"
   ]
  },
  {
   "cell_type": "code",
   "execution_count": 11,
   "metadata": {},
   "outputs": [
    {
     "name": "stdout",
     "output_type": "stream",
     "text": [
      "{'max_depth': None, 'max_features': 9, 'n_estimators': 100, 'min_samples_split': 8} \n",
      "actual eval = 0.9296\n",
      "\n",
      "{'max_depth': None, 'max_features': 9, 'n_estimators': 100, 'min_samples_split': 2} \n",
      "actual eval = 0.9284\n",
      "\n",
      "{'max_depth': 10, 'max_features': None, 'n_estimators': 100, 'min_samples_split': 8} \n",
      "actual eval = 0.9277\n",
      "\n",
      "{'max_depth': None, 'max_features': 9, 'n_estimators': 50, 'min_samples_split': 8} \n",
      "actual eval = 0.9276\n",
      "\n",
      "{'max_depth': None, 'max_features': 9, 'n_estimators': 25, 'min_samples_split': 8} \n",
      "actual eval = 0.9268\n",
      "\n",
      "{'max_depth': None, 'max_features': None, 'n_estimators': 100, 'min_samples_split': 8} \n",
      "actual eval = 0.9263\n",
      "\n",
      "{'max_depth': 10, 'max_features': 9, 'n_estimators': 100, 'min_samples_split': 8} \n",
      "actual eval = 0.9261\n",
      "\n",
      "{'max_depth': None, 'max_features': 9, 'n_estimators': 50, 'min_samples_split': 2} \n",
      "actual eval = 0.9255\n",
      "\n",
      "{'max_depth': None, 'max_features': 9, 'n_estimators': 10, 'min_samples_split': 8} \n",
      "actual eval = 0.9252\n",
      "\n",
      "{'max_depth': None, 'max_features': None, 'n_estimators': 25, 'min_samples_split': 8} \n",
      "actual eval = 0.9236\n",
      "\n",
      "{'max_depth': 10, 'max_features': 9, 'n_estimators': 10, 'min_samples_split': 8} \n",
      "actual eval = 0.9222\n",
      "\n",
      "{'max_depth': 10, 'max_features': None, 'n_estimators': 10, 'min_samples_split': 8} \n",
      "actual eval = 0.9199\n",
      "\n",
      "{'max_depth': None, 'max_features': None, 'n_estimators': 10, 'min_samples_split': 8} \n",
      "actual eval = 0.9191\n",
      "\n",
      "{'max_depth': None, 'max_features': None, 'n_estimators': 10, 'min_samples_split': 2} \n",
      "actual eval = 0.9163\n",
      "\n",
      "{'max_depth': None, 'max_features': 9, 'n_estimators': 5, 'min_samples_split': 8} \n",
      "actual eval = 0.9045\n",
      "\n"
     ]
    }
   ],
   "source": [
    "# display best estimated parameters and their actual evaluation metric\n",
    "for x in best_estimated_params:\n",
    "    print(f\"{x[0]} \\nactual eval = {x[1]:.4f}\\n\")"
   ]
  }
 ],
 "metadata": {
  "kernelspec": {
   "display_name": "Python 3",
   "language": "python",
   "name": "python3"
  },
  "language_info": {
   "codemirror_mode": {
    "name": "ipython",
    "version": 3
   },
   "file_extension": ".py",
   "mimetype": "text/x-python",
   "name": "python",
   "nbconvert_exporter": "python",
   "pygments_lexer": "ipython3",
   "version": "3.6.8"
  }
 },
 "nbformat": 4,
 "nbformat_minor": 2
}
