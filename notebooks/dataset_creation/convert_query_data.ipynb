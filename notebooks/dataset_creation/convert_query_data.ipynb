{
 "cells": [
  {
   "cell_type": "code",
   "execution_count": 19,
   "metadata": {},
   "outputs": [],
   "source": [
    "import torch\n",
    "import numpy as np\n",
    "import pandas as pd\n",
    "import matplotlib.pyplot as plt"
   ]
  },
  {
   "cell_type": "code",
   "execution_count": 20,
   "metadata": {},
   "outputs": [],
   "source": [
    "work_dir = \"/Users/shaanpakala/Desktop/NSF_REU_2024/Research/\""
   ]
  },
  {
   "cell_type": "code",
   "execution_count": 21,
   "metadata": {},
   "outputs": [],
   "source": [
    "query_data_dir = f\"{work_dir}query_data/distinct/\"\n",
    "query_tensor_dir = f\"{work_dir}meta_datasets/query_tensors/distinct/\""
   ]
  },
  {
   "cell_type": "code",
   "execution_count": 22,
   "metadata": {},
   "outputs": [],
   "source": [
    "file = \"AND_AND\"\n",
    "# file = \"AND_OR\"\n",
    "# file = \"OR_AND\"\n",
    "# file = \"OR_OR\""
   ]
  },
  {
   "cell_type": "code",
   "execution_count": 23,
   "metadata": {},
   "outputs": [],
   "source": [
    "data = pd.read_csv(f\"{query_data_dir}{file}.csv\")"
   ]
  },
  {
   "cell_type": "code",
   "execution_count": 24,
   "metadata": {},
   "outputs": [],
   "source": [
    "# I asked perplexity.ai:\n",
    "\n",
    "# I have data in a pandas df arranged in this format:\n",
    "\n",
    "# col1,  col2,  col3, val_col\n",
    "# d1_1, d2_1, d3_1, value\n",
    "# d1_2, d2_1, d3_1, value\n",
    "# d1_3, d2_1, d3_1, value\n",
    "# ...\n",
    "\n",
    "# Where I want this data to correspond to a 3D tensor, where col1 represents axis 1, col2 represents axis 2, and col3 represents axis 3, \n",
    "# and value represents the value in each of the cells, how can I convert this to a torch.tensor() ?"
   ]
  },
  {
   "cell_type": "code",
   "execution_count": 25,
   "metadata": {},
   "outputs": [],
   "source": [
    "def convert_to_3d_tensor(df):\n",
    "    \n",
    "    dim1 = df['Predicate#1'].unique()\n",
    "    dim2 = df['Predicate#2'].unique()\n",
    "    dim3 = df['Predicate#3'].unique()\n",
    "\n",
    "    # Create a 3D numpy array filled with NaN values\n",
    "    tensor_shape = (len(dim1), len(dim2), len(dim3))\n",
    "    data_3d = np.full(tensor_shape, np.nan)\n",
    "\n",
    "    # Create dictionaries to map dimension values to indices\n",
    "    dim1_to_idx = {val: idx for idx, val in enumerate(dim1)}\n",
    "    dim2_to_idx = {val: idx for idx, val in enumerate(dim2)}\n",
    "    dim3_to_idx = {val: idx for idx, val in enumerate(dim3)}\n",
    "\n",
    "    # Fill the 3D array with values from the DataFrame\n",
    "    for _, row in df.iterrows():\n",
    "        i = dim1_to_idx[row['Predicate#1']]\n",
    "        j = dim2_to_idx[row['Predicate#2']]\n",
    "        k = dim3_to_idx[row['Predicate#3']]\n",
    "        data_3d[i, j, k] = row['Cardinality']\n",
    "\n",
    "    # Step 2: Convert to PyTorch tensor\n",
    "    tensor = torch.tensor(data_3d, dtype=torch.float32)\n",
    "\n",
    "    return tensor"
   ]
  },
  {
   "cell_type": "code",
   "execution_count": 26,
   "metadata": {},
   "outputs": [],
   "source": [
    "t = convert_to_3d_tensor(data)"
   ]
  },
  {
   "cell_type": "code",
   "execution_count": 27,
   "metadata": {},
   "outputs": [
    {
     "name": "stdout",
     "output_type": "stream",
     "text": [
      "Successfully saved to\n",
      "/Users/shaanpakala/Desktop/NSF_REU_2024/Research/meta_datasets/query_tensors/OR_OR_801.pt\n"
     ]
    }
   ],
   "source": [
    "save_path = f\"{query_tensor_dir}{file}_801.pt\"\n",
    "torch.save(t, save_path)\n",
    "print(f\"Successfully saved to\\n{save_path}\")"
   ]
  },
  {
   "cell_type": "code",
   "execution_count": null,
   "metadata": {},
   "outputs": [],
   "source": []
  }
 ],
 "metadata": {
  "kernelspec": {
   "display_name": "Python 3",
   "language": "python",
   "name": "python3"
  },
  "language_info": {
   "codemirror_mode": {
    "name": "ipython",
    "version": 3
   },
   "file_extension": ".py",
   "mimetype": "text/x-python",
   "name": "python",
   "nbconvert_exporter": "python",
   "pygments_lexer": "ipython3",
   "version": "3.11.6"
  }
 },
 "nbformat": 4,
 "nbformat_minor": 2
}
