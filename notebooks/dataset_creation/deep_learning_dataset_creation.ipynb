{
 "cells": [
  {
   "cell_type": "markdown",
   "id": "d6868021",
   "metadata": {},
   "source": [
    "# Setup"
   ]
  },
  {
   "cell_type": "code",
   "execution_count": 1,
   "id": "51d6505d",
   "metadata": {},
   "outputs": [
    {
     "name": "stdout",
     "output_type": "stream",
     "text": [
      "Device: cpu\n"
     ]
    }
   ],
   "source": [
    "import os\n",
    "import sys\n",
    "\n",
    "sys.path.append(os.getcwd().split('notebooks')[0])\n",
    "\n",
    "from src.utilities.utils import *\n",
    "# from src.utilities.helper_functions import *"
   ]
  },
  {
   "cell_type": "code",
   "execution_count": 2,
   "id": "da4f3408",
   "metadata": {},
   "outputs": [],
   "source": [
    "import time\n",
    "\n",
    "import torch\n",
    "\n",
    "import pandas as pd\n",
    "import numpy as np\n",
    "\n",
    "import matplotlib.pyplot as plt\n",
    "\n",
    "from sklearn.model_selection import train_test_split, KFold\n",
    "import torch\n",
    "\n",
    "from torch import nn, save, load\n",
    "from torch.optim import Adam, SGD\n",
    "from torch.utils.data import DataLoader\n",
    "\n",
    "from sklearn.metrics import f1_score\n",
    "\n",
    "from imblearn.over_sampling import SMOTE\n",
    "from sklearn.decomposition import PCA\n",
    "from sklearn.preprocessing import StandardScaler"
   ]
  },
  {
   "cell_type": "code",
   "execution_count": 3,
   "id": "4f82307e",
   "metadata": {},
   "outputs": [
    {
     "name": "stdout",
     "output_type": "stream",
     "text": [
      "Device: cuda\n"
     ]
    }
   ],
   "source": [
    "device = \"cuda\" if torch.cuda.is_available() else \"cpu\"\n",
    "print(f\"Device: {device}\")"
   ]
  },
  {
   "cell_type": "markdown",
   "id": "e14fa1b3",
   "metadata": {},
   "source": [
    "# Some Functions"
   ]
  },
  {
   "cell_type": "code",
   "execution_count": 4,
   "id": "20b6a2af",
   "metadata": {},
   "outputs": [],
   "source": [
    "def save_tensor(tensor, save_path):\n",
    "    torch.save(tensor.clone().detach(), save_path)\n",
    "    print(f\"\\nSuccessfully saved tensor to \\n{save_path}\\n\")"
   ]
  },
  {
   "cell_type": "code",
   "execution_count": 5,
   "id": "847c73b6",
   "metadata": {},
   "outputs": [],
   "source": [
    "def convert_categorical(data):\n",
    "\n",
    "    if (type(data) == type(np.array(0))):\n",
    "        \n",
    "        if (len(data.shape) == 1): df = np.array([data])\n",
    "\n",
    "        new_one = list()\n",
    "        for y in df:\n",
    "        \n",
    "            vals = list(set(list(y)))\n",
    "            \n",
    "            val_dict = dict()\n",
    "            for v in range(len(vals)): val_dict[vals[v]] = v\n",
    "            \n",
    "            new_one += [[val_dict[i] for i in y]]\n",
    "    \n",
    "            del vals, val_dict\n",
    "\n",
    "        new_one = np.array(new_one)\n",
    "            \n",
    "        return new_one\n",
    "        \n",
    "    else:\n",
    "        df = data\n",
    "        num_c = len(list(df.columns))\n",
    "        \n",
    "        for c in range(num_c):\n",
    "            \n",
    "            if (type(data.iloc[:, c][0]) != str): continue\n",
    "\n",
    "            vals = list(set(df.iloc[:, c]))\n",
    "\n",
    "            t_d = dict()\n",
    "\n",
    "            for v in range(len(vals)):\n",
    "                val = vals[v]\n",
    "                t_d[val] = v\n",
    "\n",
    "            df.iloc[:, c] = df.iloc[:, c].map(lambda x: t_d[x])\n",
    "            \n",
    "        return df"
   ]
  },
  {
   "cell_type": "code",
   "execution_count": 6,
   "id": "e5115fb1",
   "metadata": {},
   "outputs": [],
   "source": [
    "def train_block(clf, opt, loss_fn, X_train, Y_train, num_epochs = 10, batch_size = 128):\n",
    "\n",
    "    train = list()\n",
    "    for i in range(len(X_train)):\n",
    "        train.append((X_train[i], Y_train[i]))\n",
    "\n",
    "    trainloader = DataLoader(train, batch_size)\n",
    "\n",
    "    for epoch in range(1, num_epochs+1):\n",
    "\n",
    "        for batch in trainloader:\n",
    "\n",
    "            x,y = batch \n",
    "            Yhat = clf(x)\n",
    "\n",
    "            loss = loss_fn(Yhat, y)\n",
    "\n",
    "            #backpropogation\n",
    "            opt.zero_grad()\n",
    "            loss.backward()\n",
    "            opt.step()    \n",
    "    \n",
    "    return clf"
   ]
  },
  {
   "cell_type": "code",
   "execution_count": 7,
   "id": "17650df6",
   "metadata": {},
   "outputs": [],
   "source": [
    "class NN_clf(nn.Module):\n",
    "    def __init__(self, input_dim, hidden_dim = 100, num_fc = 2, act = 'relu', dropout_p = 0.1, num_classes = 2):\n",
    "        super(NN_clf, self).__init__()\n",
    "        \n",
    "        self.num_fc = num_fc\n",
    "\n",
    "        self.in_ = nn.Linear(input_dim, hidden_dim)\n",
    "        \n",
    "        self.fc = nn.Linear(hidden_dim, hidden_dim)\n",
    "        \n",
    "        self.dropout = nn.Dropout(p=dropout_p)\n",
    "        \n",
    "        if (act == 'relu'):\n",
    "            self.act = nn.ReLU()\n",
    "            \n",
    "        elif (act == 'tanh'):\n",
    "            self.act = nn.Tanh()\n",
    "            \n",
    "        elif (act == 'sigmoid'):\n",
    "            self.act = nn.Sigmoid()\n",
    "        \n",
    "        self.out_ = nn.Linear(hidden_dim, num_classes)        \n",
    "        \n",
    "    def forward(self, x):\n",
    "\n",
    "        x = self.in_(x)\n",
    "        \n",
    "        for i in range(self.num_fc):\n",
    "\n",
    "            x = self.fc(x)\n",
    "            x = self.act(x)\n",
    "            x = self.dropout(x)\n",
    "            \n",
    "\n",
    "        x = self.out_(x)\n",
    "\n",
    "        \n",
    "        return x"
   ]
  },
  {
   "cell_type": "code",
   "execution_count": 8,
   "id": "3278e8a8",
   "metadata": {},
   "outputs": [],
   "source": [
    "def return_NN_eval(x, \n",
    "                    y, \n",
    "                    scaler_type = None,\n",
    "                    PCA_components = None,\n",
    "                    input_dim = None, \n",
    "                    hidden_dim = 100, \n",
    "                    num_fc = 2, \n",
    "                    act = 'relu', \n",
    "                    dropout_p = 0.1, \n",
    "                    num_classes = None, \n",
    "                    n_splits = 5, \n",
    "                    lr=1e-3, \n",
    "                    wd=1e-4, \n",
    "                    num_epochs=10, \n",
    "                    batch_size=128, \n",
    "                    smote_train=False):\n",
    "\n",
    "    if num_classes is None:\n",
    "        class_num = len(set([int(b) for b in y.cpu()]))\n",
    "    else:\n",
    "        class_num = num_classes\n",
    "        \n",
    "    if input_dim is None:\n",
    "        input_d = x.shape[1]\n",
    "    else:\n",
    "        input_d = input_dim\n",
    "\n",
    "    kf = KFold(n_splits=n_splits, shuffle = True, random_state = 18)\n",
    "    kf.get_n_splits(x)\n",
    "    \n",
    "    loss_fn = nn.CrossEntropyLoss()        \n",
    "\n",
    "    overall_metric = 0\n",
    "    for i, (train_index, test_index) in enumerate(kf.split(x)):\n",
    "\n",
    "        model = NN_clf(input_dim = input_d,\n",
    "                       hidden_dim = hidden_dim,\n",
    "                       num_fc = num_fc,\n",
    "                       act = act,\n",
    "                       dropout_p = dropout_p,\n",
    "                       num_classes = class_num).to(device)\n",
    "        \n",
    "        # opt = Adam(model.parameters(), lr=lr, weight_decay=wd)\n",
    "        opt = SGD(model.parameters(), lr=lr, weight_decay=wd)\n",
    "\n",
    "        X_train = x[train_index]\n",
    "        X_test = x[test_index]\n",
    "\n",
    "        Y_train = y[train_index]\n",
    "        Y_test = y[test_index]\n",
    "\n",
    "        if (smote_train):\n",
    "            smote = SMOTE(random_state=18)\n",
    "            X_train, Y_train = smote.fit_resample(X_train.cpu(), Y_train.cpu())\n",
    "            \n",
    "            X_train, Y_train = torch.tensor(X_train, dtype = torch.float32).to(device), torch.tensor(Y_train, dtype = torch.long).to(device)\n",
    "            \n",
    "            \n",
    "        if (scaler_type is not None):\n",
    "            \n",
    "            if (scaler_type == 'standard'):\n",
    "                \n",
    "                scaler = StandardScaler()\n",
    "                scaler = scaler.fit(X_train.cpu())   \n",
    "                \n",
    "                scale = lambda to_scale: scaler.transform(to_scale.cpu()).to(device) \n",
    "                \n",
    "            elif (scaler_type == 'minmax'):\n",
    "                scale = lambda to_scale: ((to_scale.cpu() - to_scale.cpu().min())/(to_scale.cpu().max() - to_scale.cpu().min())).to(device)\n",
    "                \n",
    "                \n",
    "            # do nothing\n",
    "            else: scale = lambda to_scale: to_scale\n",
    "                \n",
    "        # do nothing\n",
    "        else: scale = lambda to_scale: to_scale\n",
    "            \n",
    "        \n",
    "        if (PCA_components is not None):\n",
    "                \n",
    "            pca = PCA(n_components=PCA_components)\n",
    "            pca.fit(X_train.cpu())\n",
    "            \n",
    "            do_pca = lambda to_pca: pca.transform(to_pca.cpu()).to(device)\n",
    "            \n",
    "        # do nothing\n",
    "        else: do_pca = lambda to_pca: to_pca    \n",
    "        \n",
    "        \n",
    "        X_train = scale(X_train)\n",
    "        X_train = do_pca(X_train)\n",
    "        \n",
    "        model = train_block(model,\n",
    "                            opt = opt,\n",
    "                            loss_fn = loss_fn, \n",
    "                            X_train = X_train,\n",
    "                            Y_train = Y_train, \n",
    "                            num_epochs = num_epochs,\n",
    "                            batch_size = batch_size)\n",
    "        \n",
    "        \n",
    "        X_test = scale(X_test)\n",
    "        X_test = do_pca(X_test)\n",
    "        \n",
    "        preds = model(X_test).cpu().detach().numpy()\n",
    "        \n",
    "        pred_labels = torch.tensor([x.argmax() for x in preds], dtype = torch.long)\n",
    "        \n",
    "        # _______ insert evaluation metric ___________________________________\n",
    "        \n",
    "        if (len(set(y)) == 2): average = 'binary'\n",
    "        else: average = 'weighted'\n",
    "            \n",
    "        metric_value = f1_score(Y_test.cpu(), pred_labels.cpu(), average = average)\n",
    "        \n",
    "        # ____________________________________________________________________\n",
    "        \n",
    "        overall_metric += metric_value\n",
    "        \n",
    "        del model\n",
    "            \n",
    "    return (overall_metric/n_splits)"
   ]
  },
  {
   "cell_type": "code",
   "execution_count": 9,
   "id": "8da7210f",
   "metadata": {},
   "outputs": [],
   "source": [
    "# def convert_categorical(df):\n",
    "\n",
    "#     num_c = len(list(df.columns))\n",
    "    \n",
    "#     for c in range(num_c):\n",
    "        \n",
    "#         if (type(data.iloc[:, c][0]) != str): continue\n",
    "\n",
    "#         vals = list(set(df.iloc[:, c]))\n",
    "\n",
    "#         t_d = dict()\n",
    "\n",
    "#         for v in range(len(vals)):\n",
    "#             val = vals[v]\n",
    "#             t_d[val] = v\n",
    "\n",
    "#         df.iloc[:, c] = df.iloc[:, c].map(lambda x: t_d[x])\n",
    "        \n",
    "#     return df"
   ]
  },
  {
   "cell_type": "markdown",
   "id": "58dfe375",
   "metadata": {},
   "source": [
    "# Get Data"
   ]
  },
  {
   "cell_type": "markdown",
   "id": "df319072",
   "metadata": {},
   "source": [
    "### Get Classification Dataset"
   ]
  },
  {
   "cell_type": "code",
   "execution_count": 10,
   "id": "f88ae5e1",
   "metadata": {},
   "outputs": [],
   "source": [
    "data = pd.read_csv(f'{data_folder}dermatology_database.csv')\n",
    "\n",
    "X = np.array(data.iloc[:, :-2])\n",
    "Y = np.array(data.iloc[:, -1])-1\n",
    "\n",
    "del data"
   ]
  },
  {
   "cell_type": "code",
   "execution_count": 11,
   "id": "645e99db",
   "metadata": {},
   "outputs": [],
   "source": [
    "# data = np.array(pd.read_csv(f\"{data_folder}alzheimers_disease_data.csv\"))\n",
    "\n",
    "# X = data[:, :-1]\n",
    "# Y = data[:, -1]\n",
    "\n",
    "# del data"
   ]
  },
  {
   "cell_type": "code",
   "execution_count": 12,
   "id": "d36d2181",
   "metadata": {},
   "outputs": [],
   "source": [
    "# data = pd.read_csv(f\"{data_folder}glass.data\", names = [f\"Feature_{i}\" for i in range(1, 10+1)] + ['Target'])\n",
    "\n",
    "# X = np.array(data.iloc[:, 1:-1])\n",
    "# Y = convert_categorical(np.array(data.iloc[:, -1], dtype = np.int8)).squeeze()\n",
    "\n",
    "# del data"
   ]
  },
  {
   "cell_type": "code",
   "execution_count": 13,
   "id": "d34efed8",
   "metadata": {},
   "outputs": [],
   "source": [
    "# data = np.load(f\"{data_folder}MiniBoone_Particle_ID.npy\")\n",
    "\n",
    "# X = data[:, :-1]\n",
    "# Y = data[:, -1]\n",
    "\n",
    "# del data"
   ]
  },
  {
   "cell_type": "code",
   "execution_count": 14,
   "id": "535d9680",
   "metadata": {},
   "outputs": [],
   "source": [
    "# data = pd.read_csv(f\"{data_folder}spambase.data\", \n",
    "#                    names = [f\"Feature_{i}\" for i in range(1, 57)] + ['Target'])\n",
    "\n",
    "# X = np.array(data.iloc[:, :-1])\n",
    "# Y = np.array(data.iloc[:, -1])\n",
    "\n",
    "# del data"
   ]
  },
  {
   "cell_type": "code",
   "execution_count": 15,
   "id": "5844daf1",
   "metadata": {},
   "outputs": [],
   "source": [
    "# data = np.array(pd.read_csv(f\"{data_folder}alzheimers_disease_data.csv\"))\n",
    "\n",
    "# X = data[:, :-1]\n",
    "# Y = data[:, -1]\n",
    "\n",
    "# del data"
   ]
  },
  {
   "cell_type": "code",
   "execution_count": 16,
   "id": "bc73df58",
   "metadata": {},
   "outputs": [],
   "source": [
    "# data = pd.read_csv(f\"{data_folder}car.data\", names = [f\"Feature_{i}\" for i in range(1, 7)] + ['Target'])\n",
    "# data = np.array(convert_categorical(data), dtype = np.int8)\n",
    "\n",
    "# X = torch.tensor(data[:, :-1], dtype = torch.float32)\n",
    "# Y = torch.tensor(data[:, -1], dtype = torch.long)\n",
    "\n",
    "# del data"
   ]
  },
  {
   "cell_type": "markdown",
   "id": "57e5a059",
   "metadata": {},
   "source": [
    "### Look at Data"
   ]
  },
  {
   "cell_type": "code",
   "execution_count": 17,
   "id": "d4c898c2",
   "metadata": {},
   "outputs": [
    {
     "data": {
      "image/png": "[encoded data removed]",
      "text/plain": [
       "<Figure size 432x288 with 1 Axes>"
      ]
     },
     "metadata": {
      "needs_background": "light"
     },
     "output_type": "display_data"
    }
   ],
   "source": [
    "plt.hist([int(y) for y in Y])\n",
    "plt.title(\"Number of Samples per Class\")\n",
    "plt.xlabel(\"Class\")\n",
    "plt.ylabel(\"Number of Samples\")\n",
    "plt.show()"
   ]
  },
  {
   "cell_type": "code",
   "execution_count": 18,
   "id": "01d7f1c5",
   "metadata": {},
   "outputs": [
    {
     "name": "stdout",
     "output_type": "stream",
     "text": [
      "X Shape: (366, 33); Y Shape: (366,)\n"
     ]
    }
   ],
   "source": [
    "print(f\"X Shape: {X.shape}; Y Shape: {Y.shape}\")"
   ]
  },
  {
   "cell_type": "markdown",
   "id": "1339c7c4",
   "metadata": {},
   "source": [
    "### Get Subset"
   ]
  },
  {
   "cell_type": "code",
   "execution_count": 19,
   "id": "b042942d",
   "metadata": {},
   "outputs": [],
   "source": [
    "def get_subset(x, y, portion=1, random_state=18):\n",
    "    \n",
    "    if (portion>=1): return x, y\n",
    "    \n",
    "    X, tx, Y, ty = train_test_split(x, y, test_size=(1-portion), random_state=random_state)\n",
    "    del tx, ty\n",
    "    \n",
    "    return X, Y"
   ]
  },
  {
   "cell_type": "code",
   "execution_count": 20,
   "id": "9fa25ad6",
   "metadata": {},
   "outputs": [],
   "source": [
    "X, Y = get_subset(X, Y, \n",
    "                #   portion=0.02, \n",
    "                  random_state=18)\n",
    "\n",
    "X, Y = torch.tensor(X, dtype = torch.float32).to(device), torch.tensor(Y, dtype = torch.long).to(device)"
   ]
  },
  {
   "cell_type": "code",
   "execution_count": 21,
   "id": "1eaaa53e",
   "metadata": {},
   "outputs": [
    {
     "name": "stdout",
     "output_type": "stream",
     "text": [
      "X Shape: torch.Size([366, 33]); Y Shape: torch.Size([366])\n"
     ]
    }
   ],
   "source": [
    "print(f\"X Shape: {X.shape}; Y Shape: {Y.shape}\")"
   ]
  },
  {
   "cell_type": "markdown",
   "id": "4bc56d7c",
   "metadata": {},
   "source": [
    "# Test Model"
   ]
  },
  {
   "cell_type": "code",
   "execution_count": 22,
   "id": "2ad493dc",
   "metadata": {},
   "outputs": [
    {
     "name": "stdout",
     "output_type": "stream",
     "text": [
      "X Shape: (366, 33).\n",
      "\n",
      "6 classes.\n",
      "\n",
      "\n"
     ]
    }
   ],
   "source": [
    "run_test = False\n",
    "# run_test = True\n",
    "\n",
    "print(f\"X Shape: {tuple(X.shape)}.\\n\")\n",
    "\n",
    "num_classes = len(set([int(y) for y in Y.cpu()]))\n",
    "print(f\"{num_classes} classes.\\n\\n\")\n",
    "\n",
    "if (run_test):  \n",
    "\n",
    "    result = return_NN_eval(input_dim = int(X.shape[1]),\n",
    "                            hidden_dim = 32,                  # can change hidden_dim\n",
    "                            num_fc = 2,                        # can change number of layers\n",
    "                            act = 'relu',                      # can change activation function\n",
    "                            dropout_p = 0,                   # can change dropout probability\n",
    "                            num_classes = num_classes,\n",
    "                            x = X.to(torch.float32), \n",
    "                            y = Y.to(torch.long), \n",
    "                            scaler_type='standard',\n",
    "                            PCA_components = None,\n",
    "                            n_splits = 5, \n",
    "                            num_epochs=20,                   # can change num_epochs\n",
    "                            batch_size=1024,                  # can change batch_size\n",
    "                            lr=5e-3,\n",
    "                            wd=5e-3,\n",
    "                            smote_train=False)               # can change SMOTE\n",
    "\n",
    "    print(f\"Evaluation: {result:.4f}.\")       \n",
    "    \n",
    "    \n",
    "    del result\n",
    "    \n",
    "    result = return_NN_eval(input_dim = int(X.shape[1]),\n",
    "                            hidden_dim = 32,                  # can change hidden_dim\n",
    "                            num_fc = 3,                        # can change number of layers\n",
    "                            act = 'relu',                      # can change activation function\n",
    "                            dropout_p = 0,                   # can change dropout probability\n",
    "                            num_classes = num_classes,\n",
    "                            x = X.to(torch.float32), \n",
    "                            y = Y.to(torch.long), \n",
    "                            scaler_type='standard',\n",
    "                            PCA_components = None,\n",
    "                            n_splits = 5, \n",
    "                            num_epochs=20,                   # can change num_epochs\n",
    "                            batch_size=2048,                  # can change batch_size\n",
    "                            lr=5e-3,\n",
    "                            wd=5e-3,\n",
    "                            smote_train=False)               # can change SMOTE\n",
    "\n",
    "    print(f\"Evaluation: {result:.4f}.\")       \n"
   ]
  },
  {
   "cell_type": "code",
   "execution_count": 23,
   "id": "e009db63",
   "metadata": {},
   "outputs": [],
   "source": [
    "# generate error !"
   ]
  },
  {
   "cell_type": "markdown",
   "id": "0f555299",
   "metadata": {},
   "source": [
    "# Generate Tensor"
   ]
  },
  {
   "cell_type": "code",
   "execution_count": 24,
   "id": "b8a84bd4",
   "metadata": {},
   "outputs": [
    {
     "name": "stdout",
     "output_type": "stream",
     "text": [
      "(3x6x3x6x4) tensor output.\n",
      "\n",
      "1296 total combinations.\n",
      "X Shape: (366, 33), Y Shape: (366,).\n"
     ]
    }
   ],
   "source": [
    "def get_size(l, get_str = False):\n",
    "    total_cells = 1\n",
    "    if (get_str): s = str()\n",
    "    for i in range(len(l)): \n",
    "        total_cells*=len(l[i])\n",
    "        \n",
    "        if ((len(l[i]) != 1) and get_str): \n",
    "            \n",
    "            s += f\"{len(l[i])}\"\n",
    "            if (i < (len(l) - 1)): s += \"x\"\n",
    "                      \n",
    "    if (get_str): return total_cells, s\n",
    "    return total_cells\n",
    "\n",
    "\n",
    "dim6=[None, 'minmax', 'standard']\n",
    "dim5=['relu']\n",
    "dim4=[2, 3, 5, 10, 15, 25]\n",
    "dim3 = [128, 1024, 2048]\n",
    "dim2=[1, 2, 3, 5, 10, 15]\n",
    "dim1=[32, 128, 256, 512]\n",
    "\n",
    "list_=[dim6,dim5,dim4,dim3,dim2,dim1]\n",
    "total_cells, s = get_size(list_, get_str = True)\n",
    "print(f\"({s}) tensor output.\\n\")\n",
    "\n",
    "print(f\"{total_cells} total combinations.\")\n",
    "print(f\"X Shape: {tuple(X.shape)}, Y Shape: {tuple(Y.shape)}.\")\n",
    "del list_, s"
   ]
  },
  {
   "cell_type": "code",
   "execution_count": 25,
   "id": "2d5cdca9",
   "metadata": {},
   "outputs": [
    {
     "name": "stdout",
     "output_type": "stream",
     "text": [
      "Beginning Tensor Generation...\n",
      "\n"
     ]
    },
    {
     "name": "stdout",
     "output_type": "stream",
     "text": [
      "10/1296 combinations done. Average Iteration Time: 0.13. 1.2998 time since start.\n",
      "20/1296 combinations done. Average Iteration Time: 0.15. 2.9583 time since start.\n",
      "30/1296 combinations done. Average Iteration Time: 0.14. 4.1533 time since start.\n",
      "40/1296 combinations done. Average Iteration Time: 0.12. 4.8081 time since start.\n",
      "50/1296 combinations done. Average Iteration Time: 0.11. 5.7226 time since start.\n",
      "60/1296 combinations done. Average Iteration Time: 0.11. 6.3190 time since start.\n",
      "70/1296 combinations done. Average Iteration Time: 0.10. 7.1526 time since start.\n",
      "80/1296 combinations done. Average Iteration Time: 0.11. 8.4855 time since start.\n",
      "90/1296 combinations done. Average Iteration Time: 0.12. 10.4024 time since start.\n",
      "100/1296 combinations done. Average Iteration Time: 0.12. 12.3372 time since start.\n",
      "110/1296 combinations done. Average Iteration Time: 0.12. 13.1147 time since start.\n",
      "120/1296 combinations done. Average Iteration Time: 0.12. 14.4629 time since start.\n",
      "130/1296 combinations done. Average Iteration Time: 0.12. 15.1734 time since start.\n",
      "140/1296 combinations done. Average Iteration Time: 0.12. 16.1565 time since start.\n",
      "150/1296 combinations done. Average Iteration Time: 0.12. 17.9287 time since start.\n",
      "160/1296 combinations done. Average Iteration Time: 0.13. 20.4910 time since start.\n",
      "170/1296 combinations done. Average Iteration Time: 0.14. 24.0011 time since start.\n",
      "180/1296 combinations done. Average Iteration Time: 0.14. 25.0511 time since start.\n",
      "190/1296 combinations done. Average Iteration Time: 0.14. 26.6105 time since start.\n",
      "200/1296 combinations done. Average Iteration Time: 0.14. 27.8467 time since start.\n",
      "210/1296 combinations done. Average Iteration Time: 0.14. 29.1187 time since start.\n",
      "220/1296 combinations done. Average Iteration Time: 0.14. 31.6941 time since start.\n",
      "230/1296 combinations done. Average Iteration Time: 0.16. 36.3063 time since start.\n",
      "240/1296 combinations done. Average Iteration Time: 0.18. 43.7762 time since start.\n",
      "250/1296 combinations done. Average Iteration Time: 0.18. 45.2507 time since start.\n",
      "260/1296 combinations done. Average Iteration Time: 0.18. 47.3840 time since start.\n",
      "270/1296 combinations done. Average Iteration Time: 0.18. 49.5388 time since start.\n",
      "280/1296 combinations done. Average Iteration Time: 0.18. 51.2605 time since start.\n",
      "290/1296 combinations done. Average Iteration Time: 0.19. 54.4193 time since start.\n",
      "300/1296 combinations done. Average Iteration Time: 0.20. 59.4807 time since start.\n",
      "310/1296 combinations done. Average Iteration Time: 0.22. 68.5432 time since start.\n",
      "320/1296 combinations done. Average Iteration Time: 0.23. 72.2888 time since start.\n",
      "330/1296 combinations done. Average Iteration Time: 0.23. 74.9427 time since start.\n",
      "340/1296 combinations done. Average Iteration Time: 0.23. 78.4134 time since start.\n",
      "350/1296 combinations done. Average Iteration Time: 0.23. 80.7622 time since start.\n",
      "360/1296 combinations done. Average Iteration Time: 0.24. 84.6564 time since start.\n",
      "370/1296 combinations done. Average Iteration Time: 0.25. 93.3946 time since start.\n",
      "380/1296 combinations done. Average Iteration Time: 0.28. 106.6900 time since start.\n",
      "390/1296 combinations done. Average Iteration Time: 0.30. 115.6148 time since start.\n",
      "400/1296 combinations done. Average Iteration Time: 0.30. 119.5524 time since start.\n",
      "410/1296 combinations done. Average Iteration Time: 0.31. 125.5436 time since start.\n",
      "420/1296 combinations done. Average Iteration Time: 0.31. 129.0547 time since start.\n",
      "430/1296 combinations done. Average Iteration Time: 0.31. 134.5199 time since start.\n",
      "\n",
      "1/3 5th order tensors done.\n",
      "\n",
      "440/1296 combinations done. Average Iteration Time: 0.31. 136.8990 time since start.\n",
      "450/1296 combinations done. Average Iteration Time: 0.31. 138.0222 time since start.\n",
      "460/1296 combinations done. Average Iteration Time: 0.30. 139.1941 time since start.\n",
      "470/1296 combinations done. Average Iteration Time: 0.30. 139.7046 time since start.\n",
      "480/1296 combinations done. Average Iteration Time: 0.29. 140.4881 time since start.\n",
      "490/1296 combinations done. Average Iteration Time: 0.29. 141.0510 time since start.\n",
      "500/1296 combinations done. Average Iteration Time: 0.28. 141.7010 time since start.\n",
      "510/1296 combinations done. Average Iteration Time: 0.28. 142.6868 time since start.\n",
      "520/1296 combinations done. Average Iteration Time: 0.28. 144.0897 time since start.\n",
      "530/1296 combinations done. Average Iteration Time: 0.28. 145.9986 time since start.\n",
      "540/1296 combinations done. Average Iteration Time: 0.27. 146.6155 time since start.\n",
      "550/1296 combinations done. Average Iteration Time: 0.27. 147.5021 time since start.\n",
      "560/1296 combinations done. Average Iteration Time: 0.26. 148.2238 time since start.\n",
      "570/1296 combinations done. Average Iteration Time: 0.26. 148.9473 time since start.\n",
      "580/1296 combinations done. Average Iteration Time: 0.26. 150.2623 time since start.\n",
      "590/1296 combinations done. Average Iteration Time: 0.26. 152.2919 time since start.\n",
      "600/1296 combinations done. Average Iteration Time: 0.26. 155.5979 time since start.\n",
      "610/1296 combinations done. Average Iteration Time: 0.26. 156.4472 time since start.\n",
      "620/1296 combinations done. Average Iteration Time: 0.25. 157.7739 time since start.\n",
      "630/1296 combinations done. Average Iteration Time: 0.25. 159.0077 time since start.\n",
      "640/1296 combinations done. Average Iteration Time: 0.25. 160.0018 time since start.\n",
      "650/1296 combinations done. Average Iteration Time: 0.25. 161.8586 time since start.\n",
      "660/1296 combinations done. Average Iteration Time: 0.25. 165.3305 time since start.\n",
      "670/1296 combinations done. Average Iteration Time: 0.26. 170.9160 time since start.\n",
      "680/1296 combinations done. Average Iteration Time: 0.26. 173.4858 time since start.\n",
      "690/1296 combinations done. Average Iteration Time: 0.25. 175.3935 time since start.\n",
      "700/1296 combinations done. Average Iteration Time: 0.25. 177.8366 time since start.\n",
      "710/1296 combinations done. Average Iteration Time: 0.25. 179.4783 time since start.\n",
      "720/1296 combinations done. Average Iteration Time: 0.25. 182.2210 time since start.\n",
      "730/1296 combinations done. Average Iteration Time: 0.26. 187.0048 time since start.\n",
      "740/1296 combinations done. Average Iteration Time: 0.26. 194.3656 time since start.\n",
      "750/1296 combinations done. Average Iteration Time: 0.27. 199.8344 time since start.\n",
      "760/1296 combinations done. Average Iteration Time: 0.27. 202.2828 time since start.\n",
      "770/1296 combinations done. Average Iteration Time: 0.27. 206.0594 time since start.\n",
      "780/1296 combinations done. Average Iteration Time: 0.27. 208.2702 time since start.\n",
      "790/1296 combinations done. Average Iteration Time: 0.27. 211.6313 time since start.\n",
      "800/1296 combinations done. Average Iteration Time: 0.27. 218.7000 time since start.\n",
      "810/1296 combinations done. Average Iteration Time: 0.28. 229.5202 time since start.\n",
      "820/1296 combinations done. Average Iteration Time: 0.29. 240.4093 time since start.\n",
      "830/1296 combinations done. Average Iteration Time: 0.29. 244.1498 time since start.\n",
      "840/1296 combinations done. Average Iteration Time: 0.30. 250.5212 time since start.\n",
      "850/1296 combinations done. Average Iteration Time: 0.30. 253.8761 time since start.\n",
      "860/1296 combinations done. Average Iteration Time: 0.30. 258.8506 time since start.\n",
      "\n",
      "2/3 5th order tensors done.\n",
      "\n",
      "870/1296 combinations done. Average Iteration Time: 0.30. 262.4659 time since start.\n",
      "880/1296 combinations done. Average Iteration Time: 0.30. 263.5272 time since start.\n",
      "890/1296 combinations done. Average Iteration Time: 0.30. 264.9343 time since start.\n",
      "900/1296 combinations done. Average Iteration Time: 0.29. 265.4447 time since start.\n",
      "910/1296 combinations done. Average Iteration Time: 0.29. 266.1658 time since start.\n",
      "920/1296 combinations done. Average Iteration Time: 0.29. 266.7734 time since start.\n",
      "930/1296 combinations done. Average Iteration Time: 0.29. 267.3547 time since start.\n",
      "940/1296 combinations done. Average Iteration Time: 0.29. 268.3401 time since start.\n",
      "950/1296 combinations done. Average Iteration Time: 0.28. 269.6781 time since start.\n",
      "960/1296 combinations done. Average Iteration Time: 0.28. 271.8139 time since start.\n",
      "970/1296 combinations done. Average Iteration Time: 0.28. 272.4286 time since start.\n",
      "980/1296 combinations done. Average Iteration Time: 0.28. 273.3009 time since start.\n",
      "990/1296 combinations done. Average Iteration Time: 0.28. 274.2130 time since start.\n",
      "1000/1296 combinations done. Average Iteration Time: 0.27. 274.9141 time since start.\n",
      "1010/1296 combinations done. Average Iteration Time: 0.27. 276.1193 time since start.\n",
      "1020/1296 combinations done. Average Iteration Time: 0.27. 278.0078 time since start.\n",
      "1030/1296 combinations done. Average Iteration Time: 0.27. 281.0166 time since start.\n",
      "1040/1296 combinations done. Average Iteration Time: 0.27. 282.4612 time since start.\n",
      "1050/1296 combinations done. Average Iteration Time: 0.27. 283.5580 time since start.\n",
      "1060/1296 combinations done. Average Iteration Time: 0.27. 284.9129 time since start.\n",
      "1070/1296 combinations done. Average Iteration Time: 0.27. 285.8617 time since start.\n",
      "1080/1296 combinations done. Average Iteration Time: 0.27. 287.4036 time since start.\n",
      "1090/1296 combinations done. Average Iteration Time: 0.27. 290.6754 time since start.\n",
      "1100/1296 combinations done. Average Iteration Time: 0.27. 295.6929 time since start.\n",
      "1110/1296 combinations done. Average Iteration Time: 0.27. 299.4392 time since start.\n",
      "1120/1296 combinations done. Average Iteration Time: 0.27. 301.2579 time since start.\n",
      "1130/1296 combinations done. Average Iteration Time: 0.27. 303.8682 time since start.\n",
      "1140/1296 combinations done. Average Iteration Time: 0.27. 305.4453 time since start.\n",
      "1150/1296 combinations done. Average Iteration Time: 0.27. 307.9067 time since start.\n",
      "1160/1296 combinations done. Average Iteration Time: 0.27. 312.3613 time since start.\n",
      "1170/1296 combinations done. Average Iteration Time: 0.27. 319.0479 time since start.\n",
      "1180/1296 combinations done. Average Iteration Time: 0.28. 325.8286 time since start.\n",
      "1190/1296 combinations done. Average Iteration Time: 0.28. 328.1995 time since start.\n",
      "1200/1296 combinations done. Average Iteration Time: 0.28. 332.1295 time since start.\n",
      "1210/1296 combinations done. Average Iteration Time: 0.28. 334.2512 time since start.\n",
      "1220/1296 combinations done. Average Iteration Time: 0.28. 337.3515 time since start.\n",
      "1230/1296 combinations done. Average Iteration Time: 0.28. 343.6653 time since start.\n",
      "1240/1296 combinations done. Average Iteration Time: 0.28. 353.4136 time since start.\n",
      "1250/1296 combinations done. Average Iteration Time: 0.29. 366.9737 time since start.\n",
      "1260/1296 combinations done. Average Iteration Time: 0.29. 370.4846 time since start.\n",
      "1270/1296 combinations done. Average Iteration Time: 0.30. 375.9566 time since start.\n",
      "1280/1296 combinations done. Average Iteration Time: 0.30. 380.2897 time since start.\n",
      "1290/1296 combinations done. Average Iteration Time: 0.30. 384.6559 time since start.\n",
      "1296/1296 combinations done. Average Iteration Time: 0.30. 389.0913 time since start.\n",
      "\n",
      "3/3 5th order tensors done.\n",
      "\n",
      "\n",
      "Tensor done! Tensor Shape torch.Size([3, 6, 3, 6, 4])\n",
      "0.30  Average Iteration Time ; 389.09 total runtime\n"
     ]
    }
   ],
   "source": [
    "start_time = time.time()\n",
    "print(\"Beginning Tensor Generation...\\n\")\n",
    "\n",
    "i = 0\n",
    "num_classes = len(set([int(y) for y in Y]))\n",
    "times = list()\n",
    "\n",
    "tensor_6 = list()\n",
    "for scaler_type in dim6:\n",
    "    tensor_5 = list()\n",
    "    for act in dim5:\n",
    "        tensor_4 = list()\n",
    "        for num_epochs in dim4:\n",
    "            tensor_3 = list()\n",
    "            for batch_size in dim3:\n",
    "                tensor_2 = list()\n",
    "                for num_fc in dim2:\n",
    "                    tensor_1 = list()\n",
    "                    for hidden_dim in dim1:\n",
    "                        it_start = time.time()\n",
    "                        result = return_NN_eval(x = X, \n",
    "                                                y = Y, \n",
    "                                                PCA_components=None,\n",
    "                                                scaler_type=scaler_type,\n",
    "                                                input_dim = int(X.shape[1]), \n",
    "                                                hidden_dim = hidden_dim, \n",
    "                                                num_fc = num_fc, \n",
    "                                                act = act, \n",
    "                                                dropout_p = 0, \n",
    "                                                num_classes = num_classes, \n",
    "                                                n_splits = 5, \n",
    "                                                lr=5e-3, \n",
    "                                                wd=1e-3, \n",
    "                                                num_epochs=num_epochs, \n",
    "                                                batch_size=batch_size, \n",
    "                                                smote_train=False)\n",
    "\n",
    "                        i+=1\n",
    "                        \n",
    "                        times += [time.time() - it_start]\n",
    "                        \n",
    "                        if (i%10==0 or i==total_cells): \n",
    "                            print(f\"{i}/{total_cells} combinations done. Average Iteration Time: {(np.array(times).mean()):.2f}. {(time.time() - start_time):.4f} time since start.\")\n",
    "\n",
    "                        tensor_1+= [result]\n",
    "\n",
    "                    tensor_2+= [tensor_1]\n",
    "\n",
    "                tensor_3+= [tensor_2]\n",
    "\n",
    "            tensor_4+= [tensor_3]\n",
    "            \n",
    "        tensor_5 += [tensor_4]\n",
    "        \n",
    "    tensor_6 += [tensor_5]\n",
    "\n",
    "    print(f\"\\n{len(tensor_6)}/{len(dim6)} 5th order tensors done.\\n\")\n",
    "\n",
    "tensor = torch.tensor(tensor_6).squeeze()\n",
    "\n",
    "print(f\"\\nTensor done! Tensor Shape {tensor.shape}\\n{np.array(times).mean():.2f}  Average Iteration Time ; {(time.time() - start_time):.2f} total runtime\")"
   ]
  },
  {
   "cell_type": "code",
   "execution_count": 26,
   "id": "c9b10478",
   "metadata": {},
   "outputs": [],
   "source": [
    "tensor = torch.tensor(tensor_6).squeeze()"
   ]
  },
  {
   "cell_type": "code",
   "execution_count": 27,
   "id": "d507e96c",
   "metadata": {},
   "outputs": [
    {
     "name": "stdout",
     "output_type": "stream",
     "text": [
      "Generated Tensor shape: (3, 6, 3, 6, 4)\n"
     ]
    },
    {
     "data": {
      "image/png": "[encoded data removed]",
      "text/plain": [
       "<Figure size 432x288 with 1 Axes>"
      ]
     },
     "metadata": {
      "needs_background": "light"
     },
     "output_type": "display_data"
    }
   ],
   "source": [
    "print(f\"Generated Tensor shape: {tuple(tensor.shape)}\")\n",
    "\n",
    "plt.hist(list([float(x) for x in tensor.flatten()]), bins = 50)\n",
    "plt.xlim(0, 1)\n",
    "plt.xticks([tensor.min(), tensor.max()])\n",
    "\n",
    "plt.show()"
   ]
  },
  {
   "cell_type": "code",
   "execution_count": 30,
   "id": "3280d6fa",
   "metadata": {},
   "outputs": [
    {
     "name": "stdout",
     "output_type": "stream",
     "text": [
      "\n",
      "Successfully saved tensor to \n",
      "/home/spaka002/NSF_REU_2024/training_tensors/deep_learning/FCNN_Dermatology_903.pt\n",
      "\n"
     ]
    }
   ],
   "source": [
    "if (False):\n",
    "    save_tensor(tensor,\n",
    "                save_path = f\"{work_dir}training_tensors/deep_learning/FCNN_Dermatology_903.pt\")"
   ]
  },
  {
   "cell_type": "code",
   "execution_count": null,
   "id": "e9f3d354",
   "metadata": {},
   "outputs": [],
   "source": []
  }
 ],
 "metadata": {
  "kernelspec": {
   "display_name": "Python 3",
   "language": "python",
   "name": "python3"
  },
  "language_info": {
   "codemirror_mode": {
    "name": "ipython",
    "version": 3
   },
   "file_extension": ".py",
   "mimetype": "text/x-python",
   "name": "python",
   "nbconvert_exporter": "python",
   "pygments_lexer": "ipython3",
   "version": "3.11.6"
  }
 },
 "nbformat": 4,
 "nbformat_minor": 5
}
