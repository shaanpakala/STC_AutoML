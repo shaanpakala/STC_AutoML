{
 "cells": [
  {
   "cell_type": "markdown",
   "id": "d4d49c27",
   "metadata": {},
   "source": [
    "# Dependencies"
   ]
  },
  {
   "cell_type": "code",
   "execution_count": 1,
   "id": "f9b618f1",
   "metadata": {},
   "outputs": [],
   "source": [
    "work_dir = \"/home/spaka002/NSF_REU_2024/\""
   ]
  },
  {
   "cell_type": "code",
   "execution_count": 2,
   "id": "8211dcde",
   "metadata": {},
   "outputs": [],
   "source": [
    "import random\n",
    "# import wandb\n",
    "import numpy as np\n",
    "from dotmap import DotMap\n",
    "\n",
    "import torch\n",
    "import torch.nn as nn\n",
    "import torch.optim as optim\n",
    "\n",
    "from torch.utils.data import DataLoader\n",
    "\n",
    "import sys\n",
    "from notebooks.utilities.helper_functions import *\n",
    "\n",
    "from notebooks.tensor_completion_models.CoSTCo import *\n",
    "from notebooks.tensor_completion_models.CPD import *\n",
    "from notebooks.tensor_completion_models.tuckER import *\n",
    "from notebooks.tensor_completion_models.ETC import *\n",
    "\n",
    "import matplotlib.pyplot as plt\n",
    "from sklearn.utils.validation import check_random_state\n",
    "import tensorly as tl\n",
    "from torch.nn.init import xavier_normal_\n",
    "\n",
    "from sklearn.metrics import mean_absolute_error as MAE\n",
    "from sklearn.metrics import mean_squared_error as MSE\n",
    "from sklearn.model_selection import train_test_split, KFold"
   ]
  },
  {
   "cell_type": "code",
   "execution_count": 3,
   "id": "91a01f31",
   "metadata": {},
   "outputs": [
    {
     "name": "stdout",
     "output_type": "stream",
     "text": [
      "Device: cuda\n"
     ]
    }
   ],
   "source": [
    "device = \"cuda\" if torch.cuda.is_available() else \"cpu\"\n",
    "print(f\"Device: {device}\")"
   ]
  },
  {
   "cell_type": "code",
   "execution_count": 4,
   "id": "c1c0c45c",
   "metadata": {},
   "outputs": [],
   "source": [
    "data_folder = f\"{work_dir}classification_datasets/\"\n",
    "meta_data_folder = f\"{work_dir}meta_datasets/\""
   ]
  },
  {
   "cell_type": "markdown",
   "id": "7c34d6db",
   "metadata": {},
   "source": [
    "# Load Tensor"
   ]
  },
  {
   "cell_type": "code",
   "execution_count": 5,
   "id": "73b4c5fa",
   "metadata": {},
   "outputs": [],
   "source": [
    "# original_tensor = torch.load(f\"{meta_data_folder}GB_car_evaluation_709.pt\")\n",
    "# original_tensor = torch.load(f\"{meta_data_folder}SVM_spambase_708.pt\")\n",
    "# original_tensor = torch.load(f\"{meta_data_folder}FCNN_Particle_ID_717.pt\")\n",
    "# original_tensor = torch.load(f\"{meta_data_folder}FCNN_Glass_717.pt\")\n",
    "# original_tensor = torch.load(f\"{meta_data_folder}FCNN_car_evaluation_717.pt\")\n",
    "# original_tensor = torch.load(f\"{meta_data_folder}FCNN_car_evaluation_719.pt\")\n",
    "# original_tensor = torch.load(f\"{meta_data_folder}RF_Alzheimers_805.pt\")"
   ]
  },
  {
   "cell_type": "code",
   "execution_count": 6,
   "id": "2d1c42cd",
   "metadata": {},
   "outputs": [],
   "source": [
    "# original_tensor = torch.load(f\"{meta_data_folder}RF_Alzheimers_805.pt\")\n",
    "# original_tensor = original_tensor[:, 2:, :, 2:].clone()"
   ]
  },
  {
   "cell_type": "code",
   "execution_count": 7,
   "id": "357c61e2",
   "metadata": {},
   "outputs": [],
   "source": [
    "# t1 = torch.load(f\"{meta_data_folder}dataset_mode/FCNN_805_807/FCNN_alzheimers_disease_data_807_0.5.pt\")\n",
    "# t2 = torch.load(f\"{meta_data_folder}dataset_mode/FCNN_805_807/FCNN_diabetes_binary_807_0.014.pt\")\n",
    "# t3 = torch.load(f\"{meta_data_folder}dataset_mode/FCNN_805_807/FCNN_healthcare_dataset_807_0.02.pt\")\n",
    "# t4 = torch.load(f\"{meta_data_folder}dataset_mode/FCNN_805_807/FCNN_MiniBoone_Particle_ID_805_0.05.pt\")\n",
    "\n",
    "# original_tensor = torch.stack((t1, t2, t3, t4))\n",
    "\n",
    "# del t1, t2, t3, t4\n",
    "\n",
    "# original_tensor = original_tensor[:, :, :, 1, :].clone()"
   ]
  },
  {
   "cell_type": "code",
   "execution_count": 8,
   "id": "cf3257bb",
   "metadata": {},
   "outputs": [],
   "source": [
    "t1 = torch.load(f\"{work_dir}meta_datasets/model_mode/RF_car_727.pt\")\n",
    "t2 = torch.load(f\"{work_dir}meta_datasets/model_mode/DT_car_727.pt\")\n",
    "t3 = torch.load(f\"{work_dir}meta_datasets/model_mode/GB_car_728.pt\")\n",
    "t4 = torch.load(f\"{work_dir}meta_datasets/model_mode/ET_car_730.pt\")\n",
    "\n",
    "tensor1 = torch.stack((t1, t2, t3, t4))\n",
    "\n",
    "del t1, t2, t3, t4\n",
    "\n",
    "t1 = torch.load(f\"{work_dir}meta_datasets/model_mode/RF_glass_728.pt\")\n",
    "t2 = torch.load(f\"{work_dir}meta_datasets/model_mode/DT_glass_728.pt\")\n",
    "t3 = torch.load(f\"{work_dir}meta_datasets/model_mode/GB_glass_728.pt\")\n",
    "t4 = torch.load(f\"{work_dir}meta_datasets/model_mode/ET_glass_730.pt\")\n",
    "\n",
    "tensor2 = torch.stack((t1, t2, t3, t4))\n",
    "\n",
    "del t1, t2, t3, t4\n",
    "\n",
    "t1 = torch.load(f\"{work_dir}meta_datasets/model_mode/RF_bodyPerformance_731.pt\")\n",
    "t2 = torch.load(f\"{work_dir}meta_datasets/model_mode/DT_bodyPerformance_731.pt\")\n",
    "t3 = torch.load(f\"{work_dir}meta_datasets/model_mode/GB_bodyPerformance_731.pt\")\n",
    "t4 = torch.load(f\"{work_dir}meta_datasets/model_mode/ET_bodyPerformance_731.pt\")\n",
    "\n",
    "tensor3 = torch.stack((t1, t2, t3, t4))\n",
    "\n",
    "del t1, t2, t3, t4\n",
    "\n",
    "t1 = torch.load(f\"{work_dir}meta_datasets/model_mode/RF_Dermatology_802.pt\")\n",
    "t2 = torch.load(f\"{work_dir}meta_datasets/model_mode/DT_Dermatology_802.pt\")\n",
    "t3 = torch.load(f\"{work_dir}meta_datasets/model_mode/GB_Dermatology_802.pt\")\n",
    "t4 = torch.load(f\"{work_dir}meta_datasets/model_mode/ET_Dermatology_802.pt\")\n",
    "\n",
    "tensor4 = torch.stack((t1, t2, t3, t4))\n",
    "\n",
    "del t1, t2, t3, t4\n",
    "\n",
    "\n",
    "original_tensor = torch.stack((tensor1, tensor2, tensor3, tensor4))\n",
    "\n",
    "del tensor1, tensor2, tensor3, tensor4\n",
    "\n",
    "original_tensor = original_tensor[:, 1, :, 1:, 0, 1:].clone()\n"
   ]
  },
  {
   "cell_type": "code",
   "execution_count": 9,
   "id": "157ab14b",
   "metadata": {},
   "outputs": [],
   "source": [
    "# original_tensor = torch.load(f\"{meta_data_folder}FCNN_Spambase_717.pt\")\n",
    "# original_tensor = original_tensor.permute(3, 0, 1, 2)[:, :, :, 3:]"
   ]
  },
  {
   "cell_type": "code",
   "execution_count": 10,
   "id": "1089d1a1",
   "metadata": {},
   "outputs": [
    {
     "name": "stdout",
     "output_type": "stream",
     "text": [
      "Tensor shape: torch.Size([4, 6, 7, 7])\n",
      "1176 total cells in tensor.\n"
     ]
    }
   ],
   "source": [
    "print(f\"Tensor shape: {original_tensor.shape}\")\n",
    "total_cells = 1\n",
    "for s in original_tensor.shape: total_cells*=s\n",
    "\n",
    "print(f\"{total_cells} total cells in tensor.\")"
   ]
  },
  {
   "cell_type": "code",
   "execution_count": 11,
   "id": "20ed82e2",
   "metadata": {},
   "outputs": [],
   "source": [
    "# torch.mean(original_tensor, dim = (1, 2, 3, 4))"
   ]
  },
  {
   "cell_type": "code",
   "execution_count": 12,
   "id": "b976b273",
   "metadata": {},
   "outputs": [],
   "source": [
    "# plt.figure(figsize=(10, 6))\n",
    "# plt.boxplot([original_tensor[i, :, :, :].flatten() for i in range(4)]);"
   ]
  },
  {
   "cell_type": "markdown",
   "id": "53d9c467",
   "metadata": {},
   "source": [
    "# Train & Evaluate"
   ]
  },
  {
   "cell_type": "code",
   "execution_count": 13,
   "id": "8cea8579",
   "metadata": {},
   "outputs": [],
   "source": [
    "num_epochs = 10000\n",
    "batch_size = 256\n",
    "lr = 5e-3\n",
    "wd = 1e-4\n",
    "val_size = 0.2\n",
    "\n",
    "num_iterations = 5\n",
    "\n",
    "portions = [0.005, 0.01, 0.02, 0.03, 0.05, 0.075, 0.1]\n",
    "\n",
    "costco_rank = 10\n",
    "cpd_rank = 3"
   ]
  },
  {
   "cell_type": "code",
   "execution_count": 14,
   "id": "4edc6ef2",
   "metadata": {},
   "outputs": [],
   "source": [
    "empty_slice = 3                # 1, 2, 3\n",
    "other_slice_portion = 0.25     # 0.1, 0.25, just try these for one 'empty_slice'"
   ]
  },
  {
   "cell_type": "code",
   "execution_count": 15,
   "id": "533a1864",
   "metadata": {},
   "outputs": [
    {
     "name": "stdout",
     "output_type": "stream",
     "text": [
      "Portion 0.005 iteration: 1, 2, 3, 4, 5\n",
      "Portion 0.01 iteration: 1, 2, 3, 4, 5\n",
      "Portion 0.02 iteration: 1, 2, 3, 4, 5\n",
      "Portion 0.03 iteration: 1, 2, 3, 4, 5\n",
      "Portion 0.05 iteration: 1, 2, 3, 4, 5\n",
      "Portion 0.075 iteration: 1, 2, 3, 4, 5\n",
      "Portion 0.1 iteration: 1, 2, 3, 4, 5\n",
      "\n",
      "All done!\n"
     ]
    }
   ],
   "source": [
    "reg_MAE = list()\n",
    "cpd_biased_MAE = list()\n",
    "costco_biased_MAE = list()\n",
    "\n",
    "for portion in portions:\n",
    "\n",
    "        it_reg_MAE = list()\n",
    "        it_cpd_biased_MAE = list()\n",
    "        it_costco_biased_MAE = list()\n",
    "        \n",
    "        print(f\"Portion {portion} iteration:\", end = \" \")\n",
    "        for it in range(1, num_iterations+1):\n",
    "                \n",
    "# __________________________________________________________________________________________________________________________________________________________\n",
    "\n",
    "                sparse_tensor = get_sparse_tensor(t = original_tensor[empty_slice, :, :, :].clone(),\n",
    "                                                  portion = portion,\n",
    "                                                  verbose = False)\n",
    "                     \n",
    "               \n",
    "                model = train_tensor_completion(model_type = 'costco',\n",
    "                                                train_indices = sparse_tensor.indices().t(),\n",
    "                                                train_values = sparse_tensor.values(),\n",
    "                                                tensor_size = sparse_tensor.size(),\n",
    "                                                rank = costco_rank, \n",
    "                                                num_epochs = num_epochs, \n",
    "                                                batch_size = batch_size,\n",
    "                                                lr=lr, \n",
    "                                                wd=wd, \n",
    "                                                early_stopping = True,\n",
    "                                                flags = 20,\n",
    "                                                verbose = False,\n",
    "                                                val_size = val_size,\n",
    "                                                convert_to_cpd=False)\n",
    "                \n",
    "                \n",
    "                it_reg_MAE += [get_unique_MAE(model,\n",
    "                                              full_t = original_tensor[empty_slice, :, :, :],\n",
    "                                              sparse_t = sparse_tensor)]     \n",
    "                \n",
    "                del model, sparse_tensor\n",
    "                \n",
    "# __________________________________________________________________________________________________________________________________________________________\n",
    "                \n",
    "                sim_portions = [other_slice_portion for x in range(original_tensor.shape[0])]\n",
    "                \n",
    "                sim_portions[empty_slice] = portion\n",
    "                                \n",
    "                biased_sparse_tensor = get_simulated_sparse_tensor(t = original_tensor.clone(),\n",
    "                                                                   portions = sim_portions)\n",
    "                \n",
    "                \n",
    "                model = train_tensor_completion(model_type = 'costco',\n",
    "                                                train_indices = biased_sparse_tensor.indices().t(),\n",
    "                                                train_values = biased_sparse_tensor.values(),\n",
    "                                                tensor_size = biased_sparse_tensor.size(),\n",
    "                                                rank = costco_rank, \n",
    "                                                num_epochs = num_epochs, \n",
    "                                                batch_size = batch_size,\n",
    "                                                lr=lr, \n",
    "                                                wd=wd, \n",
    "                                                early_stopping = True,\n",
    "                                                flags = 20,\n",
    "                                                verbose = False,\n",
    "                                                val_size = val_size,\n",
    "                                                convert_to_cpd=False)\n",
    "                \n",
    "                \n",
    "                it_costco_biased_MAE += [get_slice_MAE(model = model, \n",
    "                                                full_t = original_tensor, \n",
    "                                                sparse_t = biased_sparse_tensor,\n",
    "                                                slice = empty_slice)]  \n",
    "                \n",
    "                del model\n",
    "                \n",
    "                \n",
    "                model = train_tensor_completion(model_type = 'cpd',\n",
    "                                                train_indices = biased_sparse_tensor.indices().t(),\n",
    "                                                train_values = biased_sparse_tensor.values(),\n",
    "                                                tensor_size = biased_sparse_tensor.size(),\n",
    "                                                rank = cpd_rank, \n",
    "                                                num_epochs = num_epochs, \n",
    "                                                batch_size = batch_size,\n",
    "                                                lr=lr, \n",
    "                                                wd=wd, \n",
    "                                                early_stopping = True,\n",
    "                                                flags = 20,\n",
    "                                                verbose = False,\n",
    "                                                val_size = val_size,\n",
    "                                                convert_to_cpd=False)\n",
    "                \n",
    "                \n",
    "                it_cpd_biased_MAE += [get_slice_MAE(model = model, \n",
    "                                                full_t = original_tensor, \n",
    "                                                sparse_t = biased_sparse_tensor,\n",
    "                                                slice = empty_slice)]  \n",
    "                \n",
    "                del model\n",
    "                \n",
    "                del biased_sparse_tensor\n",
    "\n",
    "# __________________________________________________________________________________________________________________________________________________________\n",
    "\n",
    "                if (it == num_iterations): print(it)\n",
    "                else: print(it, end = \", \")\n",
    "\n",
    "        reg_MAE += [it_reg_MAE]\n",
    "        cpd_biased_MAE += [it_cpd_biased_MAE]\n",
    "        costco_biased_MAE += [it_costco_biased_MAE]\n",
    "\n",
    "print(\"\\nAll done!\")"
   ]
  },
  {
   "cell_type": "code",
   "execution_count": 16,
   "id": "cb56c40b",
   "metadata": {},
   "outputs": [],
   "source": [
    "reg_MAE = np.array(reg_MAE)\n",
    "cpd_biased_MAE = np.array(cpd_biased_MAE)\n",
    "costco_biased_MAE = np.array(costco_biased_MAE)"
   ]
  },
  {
   "cell_type": "code",
   "execution_count": 17,
   "id": "557f886a",
   "metadata": {},
   "outputs": [],
   "source": [
    "all_MAEs = np.array([reg_MAE, cpd_biased_MAE, costco_biased_MAE])\n",
    "labels = [f'CoSTCo Rank {costco_rank} with No Dataset Mode', f'CPD Rank {cpd_rank} with Dataset Mode', f'CoSTCo Rank {costco_rank} with Dataset Mode']"
   ]
  },
  {
   "cell_type": "code",
   "execution_count": 18,
   "id": "89990092",
   "metadata": {},
   "outputs": [],
   "source": [
    "avgs = all_MAEs.mean(axis = 2)\n",
    "sds = all_MAEs.std(axis = 2)"
   ]
  },
  {
   "cell_type": "markdown",
   "id": "c9188452",
   "metadata": {},
   "source": [
    "# Plot Results"
   ]
  },
  {
   "cell_type": "code",
   "execution_count": 19,
   "id": "53e5149e",
   "metadata": {},
   "outputs": [
    {
     "data": {
      "image/png": "[encoded data removed]",
      "text/plain": [
       "<Figure size 1296x576 with 1 Axes>"
      ]
     },
     "metadata": {
      "needs_background": "light"
     },
     "output_type": "display_data"
    }
   ],
   "source": [
    "x = portions\n",
    "\n",
    "plt.figure(figsize=(18, 8))\n",
    "\n",
    "for i in range(len(avgs)):\n",
    "    plt.errorbar(x, avgs[i], yerr=sds[i], label=labels[i], capsize=3)\n",
    "\n",
    "plt.xlabel('Proportion of Non-missing Entries')\n",
    "plt.ylabel('Mean Absolute Error (MAE)')\n",
    "plt.title(f'Proportion of Non-missing Entries vs MAE (other portions = {other_slice_portion})')\n",
    "\n",
    "plt.xticks([t for t in portions])\n",
    "plt.legend()\n",
    "plt.grid(axis = 'y')\n",
    "\n",
    "plt.xlim(0, portions[-1]+(portions[-1]/25))\n",
    "# plt.ylim(0.1, 0.2)\n",
    "# plt.ylim(0, 0.25)\n",
    "plt.ylim(bottom = 0)\n",
    "\n",
    "plt.show()"
   ]
  },
  {
   "cell_type": "code",
   "execution_count": null,
   "id": "471fe0aa",
   "metadata": {},
   "outputs": [],
   "source": []
  }
 ],
 "metadata": {
  "kernelspec": {
   "display_name": "Python 3 (ipykernel)",
   "language": "python",
   "name": "python3"
  },
  "language_info": {
   "codemirror_mode": {
    "name": "ipython",
    "version": 3
   },
   "file_extension": ".py",
   "mimetype": "text/x-python",
   "name": "python",
   "nbconvert_exporter": "python",
   "pygments_lexer": "ipython3",
   "version": "3.6.8"
  }
 },
 "nbformat": 4,
 "nbformat_minor": 5
}
