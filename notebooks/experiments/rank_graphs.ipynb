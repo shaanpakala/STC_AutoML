{
 "cells": [
  {
   "cell_type": "markdown",
   "id": "d4d49c27",
   "metadata": {},
   "source": [
    "# Dependencies"
   ]
  },
  {
   "cell_type": "code",
   "execution_count": 1,
   "id": "f9b618f1",
   "metadata": {},
   "outputs": [],
   "source": [
    "work_dir = \"/home/spaka002/NSF_REU_2024/\""
   ]
  },
  {
   "cell_type": "code",
   "execution_count": 2,
   "id": "8211dcde",
   "metadata": {},
   "outputs": [],
   "source": [
    "import random\n",
    "# import wandb\n",
    "import numpy as np\n",
    "from dotmap import DotMap\n",
    "\n",
    "import torch\n",
    "import torch.nn as nn\n",
    "import torch.optim as optim\n",
    "\n",
    "from torch.utils.data import DataLoader\n",
    "\n",
    "import sys\n",
    "from notebooks.utilities.helper_functions import *\n",
    "\n",
    "from notebooks.tensor_completion_models.CoSTCo import *\n",
    "from notebooks.tensor_completion_models.CPD import *\n",
    "from notebooks.tensor_completion_models.tuckER import *\n",
    "from notebooks.tensor_completion_models.ETC import *\n",
    "\n",
    "import matplotlib.pyplot as plt\n",
    "from sklearn.utils.validation import check_random_state\n",
    "import tensorly as tl\n",
    "from torch.nn.init import xavier_normal_\n",
    "\n",
    "from sklearn.metrics import mean_absolute_error as MAE\n",
    "from sklearn.metrics import mean_squared_error as MSE\n",
    "from sklearn.model_selection import train_test_split, KFold"
   ]
  },
  {
   "cell_type": "code",
   "execution_count": 3,
   "id": "91a01f31",
   "metadata": {},
   "outputs": [
    {
     "name": "stdout",
     "output_type": "stream",
     "text": [
      "Device: cuda\n"
     ]
    }
   ],
   "source": [
    "device = \"cuda\" if torch.cuda.is_available() else \"cpu\"\n",
    "print(f\"Device: {device}\")"
   ]
  },
  {
   "cell_type": "code",
   "execution_count": 4,
   "id": "c1c0c45c",
   "metadata": {},
   "outputs": [],
   "source": [
    "data_folder = f\"{work_dir}classification_datasets/\"\n",
    "meta_data_folder = f\"{work_dir}meta_datasets/\""
   ]
  },
  {
   "cell_type": "markdown",
   "id": "7c34d6db",
   "metadata": {},
   "source": [
    "# Load Tensor"
   ]
  },
  {
   "cell_type": "code",
   "execution_count": 5,
   "id": "9c3536fa",
   "metadata": {},
   "outputs": [],
   "source": [
    "original_tensor = None\n",
    "for_queries = False"
   ]
  },
  {
   "cell_type": "markdown",
   "id": "0919dd80",
   "metadata": {},
   "source": [
    "Query Tensors"
   ]
  },
  {
   "cell_type": "code",
   "execution_count": 6,
   "id": "0d3e9f03",
   "metadata": {},
   "outputs": [],
   "source": [
    "# original_tensor = torch.load(f\"{meta_data_folder}query_tensors/AND_AND_801.pt\")\n",
    "# original_tensor = torch.load(f\"{meta_data_folder}query_tensors/AND_OR_801.pt\")\n",
    "# original_tensor = torch.load(f\"{meta_data_folder}query_tensors/OR_AND_801.pt\")\n",
    "# original_tensor = torch.load(f\"{meta_data_folder}query_tensors/OR_OR_801.pt\")"
   ]
  },
  {
   "cell_type": "code",
   "execution_count": 7,
   "id": "b0219d23",
   "metadata": {},
   "outputs": [],
   "source": [
    "if (original_tensor is not None):\n",
    "    original_tensor = (original_tensor - original_tensor.min())/(original_tensor.max() - original_tensor.min())\n",
    "    for_queries = True"
   ]
  },
  {
   "cell_type": "markdown",
   "id": "95ac4174",
   "metadata": {},
   "source": [
    "Hyperparameter Tensors"
   ]
  },
  {
   "cell_type": "code",
   "execution_count": 8,
   "id": "73b4c5fa",
   "metadata": {},
   "outputs": [],
   "source": [
    "# original_tensor = torch.load(f\"{meta_data_folder}GB_car_evaluation_709.pt\")\n",
    "# original_tensor = torch.load(f\"{meta_data_folder}SVM_spambase_708.pt\")\n",
    "# original_tensor = torch.load(f\"{meta_data_folder}FCNN_Particle_ID_717.pt\")\n",
    "original_tensor = torch.load(f\"{meta_data_folder}FCNN_Spambase_717.pt\")\n",
    "# original_tensor = torch.load(f\"{meta_data_folder}FCNN_Glass_717.pt\")\n",
    "# original_tensor = torch.load(f\"{meta_data_folder}FCNN_car_evaluation_717.pt\")\n",
    "# original_tensor = torch.load(f\"{meta_data_folder}FCNN_car_evaluation_719.pt\")\n",
    "# original_tensor = torch.load(f\"{meta_data_folder}RF_Alzheimers_805.pt\")"
   ]
  },
  {
   "cell_type": "code",
   "execution_count": 9,
   "id": "cf3257bb",
   "metadata": {},
   "outputs": [],
   "source": [
    "# t1 = torch.load(f\"{work_dir}meta_datasets/model_mode/RF_car_727.pt\")\n",
    "# t2 = torch.load(f\"{work_dir}meta_datasets/model_mode/DT_car_727.pt\")\n",
    "# t3 = torch.load(f\"{work_dir}meta_datasets/model_mode/GB_car_728.pt\")\n",
    "# t4 = torch.load(f\"{work_dir}meta_datasets/model_mode/ET_car_730.pt\")\n",
    "\n",
    "# tensor1 = torch.stack((t1, t2, t3, t4))\n",
    "\n",
    "# del t1, t2, t3, t4\n",
    "\n",
    "# t1 = torch.load(f\"{work_dir}meta_datasets/model_mode/RF_glass_728.pt\")\n",
    "# t2 = torch.load(f\"{work_dir}meta_datasets/model_mode/DT_glass_728.pt\")\n",
    "# t3 = torch.load(f\"{work_dir}meta_datasets/model_mode/GB_glass_728.pt\")\n",
    "# t4 = torch.load(f\"{work_dir}meta_datasets/model_mode/ET_glass_730.pt\")\n",
    "\n",
    "# tensor2 = torch.stack((t1, t2, t3, t4))\n",
    "\n",
    "# del t1, t2, t3, t4\n",
    "\n",
    "# t1 = torch.load(f\"{work_dir}meta_datasets/model_mode/RF_bodyPerformance_731.pt\")\n",
    "# t2 = torch.load(f\"{work_dir}meta_datasets/model_mode/DT_bodyPerformance_731.pt\")\n",
    "# t3 = torch.load(f\"{work_dir}meta_datasets/model_mode/GB_bodyPerformance_731.pt\")\n",
    "# t4 = torch.load(f\"{work_dir}meta_datasets/model_mode/ET_bodyPerformance_731.pt\")\n",
    "\n",
    "# tensor3 = torch.stack((t1, t2, t3, t4))\n",
    "\n",
    "# del t1, t2, t3, t4\n",
    "\n",
    "# t1 = torch.load(f\"{work_dir}meta_datasets/model_mode/RF_Dermatology_802.pt\")\n",
    "# t2 = torch.load(f\"{work_dir}meta_datasets/model_mode/DT_Dermatology_802.pt\")\n",
    "# t3 = torch.load(f\"{work_dir}meta_datasets/model_mode/GB_Dermatology_802.pt\")\n",
    "# t4 = torch.load(f\"{work_dir}meta_datasets/model_mode/ET_Dermatology_802.pt\")\n",
    "\n",
    "# tensor4 = torch.stack((t1, t2, t3, t4))\n",
    "\n",
    "# del t1, t2, t3, t4\n",
    "\n",
    "# original_tensor = torch.stack((tensor1, tensor2, tensor3, tensor4))\n",
    "\n",
    "# del tensor1, tensor2, tensor3, tensor4"
   ]
  },
  {
   "cell_type": "code",
   "execution_count": 10,
   "id": "1089d1a1",
   "metadata": {},
   "outputs": [
    {
     "name": "stdout",
     "output_type": "stream",
     "text": [
      "Tensor shape: torch.Size([6, 5, 8, 6])\n",
      "1440 total cells in tensor.\n"
     ]
    }
   ],
   "source": [
    "print(f\"Tensor shape: {original_tensor.shape}\")\n",
    "total_cells = 1\n",
    "for s in original_tensor.shape: total_cells*=s\n",
    "\n",
    "print(f\"{total_cells} total cells in tensor.\")"
   ]
  },
  {
   "cell_type": "markdown",
   "id": "53d9c467",
   "metadata": {},
   "source": [
    "# Train & Evaluate"
   ]
  },
  {
   "cell_type": "code",
   "execution_count": 11,
   "id": "8cea8579",
   "metadata": {},
   "outputs": [],
   "source": [
    "num_epochs = 10000\n",
    "batch_size = 256\n",
    "lr = 5e-3\n",
    "wd = 1e-4\n",
    "val_size = 0.2\n",
    "\n",
    "num_iterations = 5\n",
    "\n",
    "ranks = [1, 2, 3, 5, 7, 10, 15, 20, 25]"
   ]
  },
  {
   "cell_type": "code",
   "execution_count": 12,
   "id": "07351e59",
   "metadata": {},
   "outputs": [],
   "source": [
    "portion = 0.05"
   ]
  },
  {
   "cell_type": "code",
   "execution_count": 13,
   "id": "533a1864",
   "metadata": {},
   "outputs": [
    {
     "name": "stdout",
     "output_type": "stream",
     "text": [
      "Rank 1 iteration: 1, 2, 3, 4, 5\n",
      "Rank 2 iteration: 1, 2, 3, 4, 5\n",
      "Rank 3 iteration: 1, 2, 3, 4, 5\n",
      "Rank 5 iteration: 1, 2, 3, 4, 5\n",
      "Rank 7 iteration: 1, 2, 3, 4, 5\n",
      "Rank 10 iteration: 1, 2, 3, 4, 5\n",
      "Rank 15 iteration: 1, 2, 3, 4, 5\n",
      "Rank 20 iteration: 1, 2, 3, 4, 5\n",
      "Rank 25 iteration: 1, 2, 3, 4, 5\n",
      "\n",
      "All done!\n"
     ]
    }
   ],
   "source": [
    "costco_MAE = list()\n",
    "cpd_MAE = list()\n",
    "tuckER_MAE = list()\n",
    "\n",
    "for rank in ranks:\n",
    "        \n",
    "        it_costco_MAE = list()\n",
    "        it_cpd_MAE = list()\n",
    "        it_tuckER_MAE = list()\n",
    "        \n",
    "        print(f\"Rank {rank} iteration:\", end = \" \")\n",
    "        for it in range(1, num_iterations+1):\n",
    "                \n",
    "                sparse_tensor = get_sparse_tensor(t = original_tensor.clone(),\n",
    "                                                  portion = portion,\n",
    "                                                  verbose = False)\n",
    "                                                                        \n",
    "                cpd = train_tensor_completion(model_type = 'cpd',\n",
    "                                        train_indices = sparse_tensor.indices().t(),\n",
    "                                        train_values = sparse_tensor.values(),\n",
    "                                        tensor_size = sparse_tensor.size(),\n",
    "                                        rank = rank, \n",
    "                                        num_epochs = num_epochs, \n",
    "                                        batch_size = batch_size,\n",
    "                                        lr=lr, \n",
    "                                        wd=wd, \n",
    "                                        early_stopping = True,\n",
    "                                        flags = 20,\n",
    "                                        verbose = False,\n",
    "                                        val_size = val_size,\n",
    "                                        for_queries = for_queries)\n",
    "                \n",
    "                \n",
    "                it_cpd_MAE += [get_unique_MAE(cpd,\n",
    "                                                full_t = original_tensor,\n",
    "                                                sparse_t = sparse_tensor)]       \n",
    "                \n",
    "                del cpd\n",
    "                \n",
    "                costco = train_tensor_completion(model_type = 'costco',\n",
    "                                                        train_indices = sparse_tensor.indices().t(),\n",
    "                                                        train_values = sparse_tensor.values(),\n",
    "                                                        tensor_size = sparse_tensor.size(),\n",
    "                                                        rank = rank, \n",
    "                                                        num_epochs = num_epochs, \n",
    "                                                        batch_size = batch_size,\n",
    "                                                        lr=lr, \n",
    "                                                        wd=wd, \n",
    "                                                        early_stopping = True,\n",
    "                                                        flags = 20,\n",
    "                                                        verbose = False,\n",
    "                                                        val_size = val_size,\n",
    "                                                        convert_to_cpd=False,\n",
    "                                                        for_queries = for_queries)\n",
    "                \n",
    "                it_costco_MAE += [get_unique_MAE(costco,\n",
    "                                                full_t = original_tensor,\n",
    "                                                sparse_t = sparse_tensor)]       \n",
    "                \n",
    "                del costco\n",
    "                                        \n",
    "                tuckER = train_tensor_completion(model_type = 'tuckER',\n",
    "                                                train_indices = sparse_tensor.indices().t(),\n",
    "                                                train_values = sparse_tensor.values(),\n",
    "                                                tensor_size = sparse_tensor.size(),\n",
    "                                                rank = rank, \n",
    "                                                num_epochs = num_epochs, \n",
    "                                                batch_size = batch_size,\n",
    "                                                lr=lr, \n",
    "                                                wd=wd, \n",
    "                                                tucker_in_drop = 0.15,\n",
    "                                                tucker_hidden_drop = 0.25,\n",
    "                                                early_stopping = True,\n",
    "                                                flags = 20,\n",
    "                                                verbose = False,\n",
    "                                                val_size = val_size,\n",
    "                                                convert_to_cpd=False,\n",
    "                                                for_queries = for_queries)\n",
    "                \n",
    "                it_tuckER_MAE += [get_unique_MAE(tuckER,\n",
    "                                                full_t = original_tensor,\n",
    "                                                sparse_t = sparse_tensor)]       \n",
    "                \n",
    "                del tuckER\n",
    "\n",
    "                if (it == num_iterations): print(it)\n",
    "                else: print(it, end = \", \")\n",
    "\n",
    "        costco_MAE += [it_costco_MAE]\n",
    "        cpd_MAE += [it_cpd_MAE]\n",
    "        tuckER_MAE += [it_tuckER_MAE]\n",
    "\n",
    "        del it_costco_MAE, it_cpd_MAE, it_tuckER_MAE\n",
    "\n",
    "cpd_MAE =    np.array(cpd_MAE)\n",
    "costco_MAE = np.array(costco_MAE)\n",
    "tuckER_MAE = np.array(tuckER_MAE)\n",
    "\n",
    "print(\"\\nAll done!\")"
   ]
  },
  {
   "cell_type": "code",
   "execution_count": 14,
   "id": "cb56c40b",
   "metadata": {},
   "outputs": [],
   "source": [
    "cpd_MAE =    np.array(cpd_MAE)\n",
    "costco_MAE = np.array(costco_MAE)\n",
    "tuckER_MAE = np.array(tuckER_MAE)"
   ]
  },
  {
   "cell_type": "code",
   "execution_count": 15,
   "id": "557f886a",
   "metadata": {},
   "outputs": [],
   "source": [
    "all_MAEs = np.array([cpd_MAE, costco_MAE, tuckER_MAE])\n",
    "labels = ['CPD', 'CoSTCo', 'TuckER']\n",
    "\n",
    "avgs = all_MAEs.mean(axis = 2)\n",
    "sds = all_MAEs.std(axis = 2)"
   ]
  },
  {
   "cell_type": "markdown",
   "id": "c9188452",
   "metadata": {},
   "source": [
    "# Plot Results"
   ]
  },
  {
   "cell_type": "code",
   "execution_count": 16,
   "id": "53e5149e",
   "metadata": {},
   "outputs": [
    {
     "data": {
      "image/png": "[encoded data removed]",
      "text/plain": [
       "<Figure size 1296x576 with 1 Axes>"
      ]
     },
     "metadata": {
      "needs_background": "light"
     },
     "output_type": "display_data"
    }
   ],
   "source": [
    "x = ranks\n",
    "\n",
    "plt.figure(figsize=(18, 8))\n",
    "\n",
    "for i in range(len(avgs)):\n",
    "    plt.errorbar(x, avgs[i], yerr=sds[i], label=labels[i], capsize=3)\n",
    "\n",
    "plt.xlabel('Proportion of Non-missing Entries')\n",
    "plt.ylabel('Mean Absolute Error (MAE)')\n",
    "plt.xticks([0]+[t for t in ranks])\n",
    "plt.yticks([0, 0.025, 0.05, 0.075, 0.1, 0.15, 0.2, 0.25, 0.3, 0.35, 0.5])\n",
    "\n",
    "plt.title(f'Proportion of Non-missing Entries vs MAE')\n",
    "plt.legend()\n",
    "plt.grid(axis='y')\n",
    "\n",
    "plt.xlim(0, ranks[-1]+1)\n",
    "# plt.ylim(0.1, 0.2)\n",
    "# plt.ylim(0, 0.25)\n",
    "plt.ylim(bottom = 0)\n",
    "\n",
    "plt.show()"
   ]
  },
  {
   "cell_type": "code",
   "execution_count": null,
   "id": "afe98a88",
   "metadata": {},
   "outputs": [],
   "source": []
  }
 ],
 "metadata": {
  "kernelspec": {
   "display_name": "Python 3 (ipykernel)",
   "language": "python",
   "name": "python3"
  },
  "language_info": {
   "codemirror_mode": {
    "name": "ipython",
    "version": 3
   },
   "file_extension": ".py",
   "mimetype": "text/x-python",
   "name": "python",
   "nbconvert_exporter": "python",
   "pygments_lexer": "ipython3",
   "version": "3.6.8"
  }
 },
 "nbformat": 4,
 "nbformat_minor": 5
}
