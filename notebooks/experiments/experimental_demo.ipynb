{
 "cells": [
  {
   "cell_type": "code",
   "execution_count": 1,
   "metadata": {},
   "outputs": [],
   "source": [
    "work_dir = \"/home/spaka002/NSF_REU_2024/\""
   ]
  },
  {
   "cell_type": "code",
   "execution_count": 2,
   "metadata": {},
   "outputs": [],
   "source": [
    "from notebooks.utilities.STC_grid_search import *\n",
    "\n",
    "import pandas as pd\n",
    "import numpy as np\n",
    "\n",
    "from sklearn.neighbors import KNeighborsClassifier as KNN\n",
    "from sklearn.ensemble import RandomForestClassifier"
   ]
  },
  {
   "cell_type": "code",
   "execution_count": 3,
   "metadata": {},
   "outputs": [],
   "source": [
    "data_folder = f\"{work_dir}classification_datasets/\""
   ]
  },
  {
   "cell_type": "code",
   "execution_count": 4,
   "metadata": {},
   "outputs": [],
   "source": [
    "device = \"cuda\" if torch.cuda.is_available() else \"cpu\""
   ]
  },
  {
   "cell_type": "code",
   "execution_count": 5,
   "metadata": {},
   "outputs": [],
   "source": [
    "# device = 'cpu'"
   ]
  },
  {
   "cell_type": "code",
   "execution_count": 6,
   "metadata": {},
   "outputs": [],
   "source": [
    "model = RandomForestClassifier(random_state = 18)\n",
    "\n",
    "param_dict = {'max_depth':[2, 3, 4, 5, 6, 10, None],\n",
    "              'max_features': ['sqrt', 'log2', 1, 3, 5, 7, 9, None],\n",
    "              'n_estimators': [5, 10, 25, 50, 100],\n",
    "              'min_samples_split': [2, 4, 8, 16, 32, 64, 128, 256]}"
   ]
  },
  {
   "cell_type": "code",
   "execution_count": 7,
   "metadata": {},
   "outputs": [
    {
     "name": "stdout",
     "output_type": "stream",
     "text": [
      "2240 total combin.\n"
     ]
    }
   ],
   "source": [
    "total_cells = 1\n",
    "for s in param_dict.values():\n",
    "    total_cells *= len(s)\n",
    "\n",
    "print(f\"{total_cells} total combinations.\")"
   ]
  },
  {
   "cell_type": "code",
   "execution_count": 14,
   "metadata": {},
   "outputs": [
    {
     "name": "stdout",
     "output_type": "stream",
     "text": [
      "X Shape: (2149, 32); Y Shape: (2149,)\n"
     ]
    }
   ],
   "source": [
    "portion_of_combinations = 0.05\n",
    "\n",
    "cv_splits = 5\n",
    "\n",
    "data = np.array(pd.read_csv(f\"{data_folder}alzheimers_disease_data.csv\"))\n",
    "\n",
    "x = data[:, :-1]\n",
    "y = data[:, -1]\n",
    "\n",
    "del data\n",
    "\n",
    "\n",
    "x, y = get_subset(x = x, y = y, portion = 1.0, random_state = 18)\n",
    "\n",
    "print(f\"X Shape: {x.shape}; Y Shape: {y.shape}\")"
   ]
  },
  {
   "cell_type": "code",
   "execution_count": 15,
   "metadata": {},
   "outputs": [
    {
     "name": "stdout",
     "output_type": "stream",
     "text": [
      "112/2240 total combinations in sparse tensor.\n",
      "1/112 param_combinations done.\n",
      "2/112 param_combinations done.\n",
      "3/112 param_combinations done.\n",
      "4/112 param_combinations done.\n",
      "5/112 param_combinations done.\n",
      "6/112 param_combinations done.\n",
      "7/112 param_combinations done.\n",
      "8/112 param_combinations done.\n",
      "9/112 param_combinations done.\n",
      "10/112 param_combinations done.\n",
      "11/112 param_combinations done.\n",
      "12/112 param_combinations done.\n",
      "13/112 param_combinations done.\n",
      "14/112 param_combinations done.\n",
      "15/112 param_combinations done.\n",
      "16/112 param_combinations done.\n",
      "17/112 param_combinations done.\n",
      "18/112 param_combinations done.\n",
      "19/112 param_combinations done.\n",
      "20/112 param_combinations done.\n",
      "21/112 param_combinations done.\n",
      "22/112 param_combinations done.\n",
      "23/112 param_combinations done.\n",
      "24/112 param_combinations done.\n",
      "25/112 param_combinations done.\n",
      "26/112 param_combinations done.\n",
      "27/112 param_combinations done.\n",
      "28/112 param_combinations done.\n",
      "29/112 param_combinations done.\n",
      "30/112 param_combinations done.\n",
      "31/112 param_combinations done.\n",
      "32/112 param_combinations done.\n",
      "33/112 param_combinations done.\n",
      "34/112 param_combinations done.\n",
      "35/112 param_combinations done.\n",
      "36/112 param_combinations done.\n",
      "37/112 param_combinations done.\n",
      "38/112 param_combinations done.\n",
      "39/112 param_combinations done.\n",
      "40/112 param_combinations done.\n",
      "41/112 param_combinations done.\n",
      "42/112 param_combinations done.\n",
      "43/112 param_combinations done.\n",
      "44/112 param_combinations done.\n",
      "45/112 param_combinations done.\n",
      "46/112 param_combinations done.\n",
      "47/112 param_combinations done.\n",
      "48/112 param_combinations done.\n",
      "49/112 param_combinations done.\n",
      "50/112 param_combinations done.\n",
      "51/112 param_combinations done.\n",
      "52/112 param_combinations done.\n",
      "53/112 param_combinations done.\n",
      "54/112 param_combinations done.\n",
      "55/112 param_combinations done.\n",
      "56/112 param_combinations done.\n",
      "57/112 param_combinations done.\n",
      "58/112 param_combinations done.\n",
      "59/112 param_combinations done.\n",
      "60/112 param_combinations done.\n",
      "61/112 param_combinations done.\n",
      "62/112 param_combinations done.\n",
      "63/112 param_combinations done.\n",
      "64/112 param_combinations done.\n",
      "65/112 param_combinations done.\n",
      "66/112 param_combinations done.\n",
      "67/112 param_combinations done.\n",
      "68/112 param_combinations done.\n",
      "69/112 param_combinations done.\n",
      "70/112 param_combinations done.\n",
      "71/112 param_combinations done.\n",
      "72/112 param_combinations done.\n",
      "73/112 param_combinations done.\n",
      "74/112 param_combinations done.\n",
      "75/112 param_combinations done.\n",
      "76/112 param_combinations done.\n",
      "77/112 param_combinations done.\n",
      "78/112 param_combinations done.\n",
      "79/112 param_combinations done.\n",
      "80/112 param_combinations done.\n",
      "81/112 param_combinations done.\n",
      "82/112 param_combinations done.\n",
      "83/112 param_combinations done.\n",
      "84/112 param_combinations done.\n",
      "85/112 param_combinations done.\n",
      "86/112 param_combinations done.\n",
      "87/112 param_combinations done.\n",
      "88/112 param_combinations done.\n",
      "89/112 param_combinations done.\n",
      "90/112 param_combinations done.\n",
      "91/112 param_combinations done.\n",
      "92/112 param_combinations done.\n",
      "93/112 param_combinations done.\n",
      "94/112 param_combinations done.\n",
      "95/112 param_combinations done.\n",
      "96/112 param_combinations done.\n",
      "97/112 param_combinations done.\n",
      "98/112 param_combinations done.\n",
      "99/112 param_combinations done.\n",
      "100/112 param_combinations done.\n",
      "101/112 param_combinations done.\n",
      "102/112 param_combinations done.\n",
      "103/112 param_combinations done.\n",
      "104/112 param_combinations done.\n",
      "105/112 param_combinations done.\n",
      "106/112 param_combinations done.\n",
      "107/112 param_combinations done.\n",
      "108/112 param_combinations done.\n",
      "109/112 param_combinations done.\n",
      "110/112 param_combinations done.\n",
      "111/112 param_combinations done.\n",
      "112/112 param_combinations done.\n",
      "Running sparse tensor completion...\n",
      "Done with sparse tensor completion!\n"
     ]
    }
   ],
   "source": [
    "best_estimated_params= return_best_k_params(model = model, \n",
    "                                            param_dict = param_dict,\n",
    "                                            X = x,\n",
    "                                            Y = y,\n",
    "                                            num_top_combinations = 15,\n",
    "                                            cv_splits = 5,\n",
    "                                            portion_of_combinations = 0.05,\n",
    "                                            STC_model_type = 'costco',\n",
    "                                            rank = 25,\n",
    "                                            device = device,\n",
    "                                            verbose = True)"
   ]
  },
  {
   "cell_type": "code",
   "execution_count": 16,
   "metadata": {},
   "outputs": [
    {
     "name": "stdout",
     "output_type": "stream",
     "text": [
      "{'max_depth': 6, 'max_features': None, 'n_estimators': 10, 'min_samples_split': 4} \n",
      "actual eval = 0.9248\n",
      "\n",
      "{'max_depth': 6, 'max_features': None, 'n_estimators': 100, 'min_samples_split': 32} \n",
      "actual eval = 0.9242\n",
      "\n",
      "{'max_depth': 10, 'max_features': None, 'n_estimators': 100, 'min_samples_split': 32} \n",
      "actual eval = 0.9242\n",
      "\n",
      "{'max_depth': 6, 'max_features': None, 'n_estimators': 10, 'min_samples_split': 32} \n",
      "actual eval = 0.9231\n",
      "\n",
      "{'max_depth': None, 'max_features': None, 'n_estimators': 10, 'min_samples_split': 32} \n",
      "actual eval = 0.9231\n",
      "\n",
      "{'max_depth': 10, 'max_features': None, 'n_estimators': 10, 'min_samples_split': 32} \n",
      "actual eval = 0.9225\n",
      "\n",
      "{'max_depth': 5, 'max_features': None, 'n_estimators': 10, 'min_samples_split': 32} \n",
      "actual eval = 0.9224\n",
      "\n",
      "{'max_depth': 6, 'max_features': None, 'n_estimators': 10, 'min_samples_split': 8} \n",
      "actual eval = 0.9218\n",
      "\n",
      "{'max_depth': 6, 'max_features': None, 'n_estimators': 5, 'min_samples_split': 32} \n",
      "actual eval = 0.9162\n",
      "\n",
      "{'max_depth': 10, 'max_features': None, 'n_estimators': 10, 'min_samples_split': 4} \n",
      "actual eval = 0.9149\n",
      "\n",
      "{'max_depth': 4, 'max_features': None, 'n_estimators': 10, 'min_samples_split': 32} \n",
      "actual eval = 0.9135\n",
      "\n",
      "{'max_depth': 4, 'max_features': None, 'n_estimators': 10, 'min_samples_split': 4} \n",
      "actual eval = 0.9135\n",
      "\n",
      "{'max_depth': 4, 'max_features': None, 'n_estimators': 100, 'min_samples_split': 32} \n",
      "actual eval = 0.9010\n",
      "\n",
      "{'max_depth': 4, 'max_features': None, 'n_estimators': 5, 'min_samples_split': 128} \n",
      "actual eval = 0.8088\n",
      "\n",
      "{'max_depth': 6, 'max_features': 3, 'n_estimators': 100, 'min_samples_split': 64} \n",
      "actual eval = 0.6941\n",
      "\n"
     ]
    }
   ],
   "source": [
    "for x in best_estimated_params:\n",
    "    print(f\"{x[0]} \\nactual eval = {x[1]:.4f}\\n\")"
   ]
  },
  {
   "cell_type": "code",
   "execution_count": 17,
   "metadata": {},
   "outputs": [],
   "source": [
    "actual_grid_search = torch.load(f\"{work_dir}meta_datasets/RF_Alzheimers_805.pt\")"
   ]
  },
  {
   "cell_type": "code",
   "execution_count": 18,
   "metadata": {},
   "outputs": [
    {
     "name": "stdout",
     "output_type": "stream",
     "text": [
      "Value: 0.9345, Index: (4, 2, 3, 7)\n",
      "Value: 0.9345, Index: (4, 1, 3, 7)\n",
      "Value: 0.9344, Index: (4, 0, 3, 7)\n",
      "Value: 0.9325, Index: (4, 3, 3, 7)\n",
      "Value: 0.9323, Index: (4, 3, 6, 6)\n",
      "Value: 0.9309, Index: (3, 2, 3, 7)\n",
      "Value: 0.9309, Index: (3, 1, 3, 7)\n",
      "Value: 0.9303, Index: (3, 0, 3, 7)\n",
      "Value: 0.9297, Index: (3, 3, 3, 7)\n",
      "Value: 0.9287, Index: (4, 0, 5, 6)\n"
     ]
    }
   ],
   "source": [
    "param_list = list(param_dict)\n",
    "\n",
    "# asked perplexity.ai for help with this\n",
    "values, indices = torch.topk(actual_grid_search.flatten(), 10)\n",
    "\n",
    "# Convert flat indices back to 3D indices\n",
    "top_k_indices = np.array(np.unravel_index(indices.numpy(), actual_grid_search.shape)).T\n",
    "\n",
    "# If you want to pair each value with its 3D index\n",
    "for value, index in zip(values, top_k_indices):\n",
    "    print(f\"Value: {value.item():.4f}, Index: {tuple(index)}\")"
   ]
  },
  {
   "cell_type": "code",
   "execution_count": null,
   "metadata": {},
   "outputs": [],
   "source": []
  }
 ],
 "metadata": {
  "kernelspec": {
   "display_name": "Python 3",
   "language": "python",
   "name": "python3"
  },
  "language_info": {
   "codemirror_mode": {
    "name": "ipython",
    "version": 3
   },
   "file_extension": ".py",
   "mimetype": "text/x-python",
   "name": "python",
   "nbconvert_exporter": "python",
   "pygments_lexer": "ipython3",
   "version": "3.6.8"
  }
 },
 "nbformat": 4,
 "nbformat_minor": 2
}
