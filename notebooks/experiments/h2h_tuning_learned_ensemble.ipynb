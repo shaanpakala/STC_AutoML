{
 "cells": [
  {
   "cell_type": "markdown",
   "metadata": {},
   "source": [
    "# Dependencies"
   ]
  },
  {
   "cell_type": "code",
   "execution_count": 1,
   "metadata": {},
   "outputs": [],
   "source": [
    "work_dir = \"/home/spaka002/NSF_REU_2024/\""
   ]
  },
  {
   "cell_type": "code",
   "execution_count": 2,
   "metadata": {},
   "outputs": [],
   "source": [
    "import random\n",
    "# import wandb\n",
    "import numpy as np\n",
    "from dotmap import DotMap\n",
    "\n",
    "import torch\n",
    "import torch.nn as nn\n",
    "import torch.optim as optim\n",
    "\n",
    "from torch.utils.data import DataLoader\n",
    "\n",
    "import sys\n",
    "from notebooks.utilities.helper_functions import *\n",
    "\n",
    "from notebooks.tensor_completion_models.CoSTCo import *\n",
    "from notebooks.tensor_completion_models.CPD import *\n",
    "from notebooks.tensor_completion_models.tuckER import *\n",
    "from notebooks.tensor_completion_models.ETC import *\n",
    "\n",
    "import matplotlib.pyplot as plt\n",
    "from sklearn.utils.validation import check_random_state\n",
    "import tensorly as tl\n",
    "from torch.nn.init import xavier_normal_\n",
    "\n",
    "from sklearn.metrics import mean_absolute_error as MAE\n",
    "from sklearn.metrics import mean_squared_error as MSE\n",
    "from sklearn.model_selection import train_test_split, KFold"
   ]
  },
  {
   "cell_type": "code",
   "execution_count": 3,
   "metadata": {},
   "outputs": [
    {
     "name": "stdout",
     "output_type": "stream",
     "text": [
      "Device: cuda\n"
     ]
    }
   ],
   "source": [
    "device = \"cuda\" if torch.cuda.is_available() else \"cpu\"\n",
    "print(f\"Device: {device}\")"
   ]
  },
  {
   "cell_type": "code",
   "execution_count": 4,
   "metadata": {},
   "outputs": [],
   "source": [
    "data_folder = f\"{work_dir}classification_datasets/\"\n",
    "meta_data_folder = f\"{work_dir}meta_datasets/\""
   ]
  },
  {
   "cell_type": "markdown",
   "metadata": {},
   "source": [
    "# Load Tensor"
   ]
  },
  {
   "cell_type": "code",
   "execution_count": 5,
   "metadata": {},
   "outputs": [],
   "source": [
    "tensor = None\n",
    "for_queries = False"
   ]
  },
  {
   "cell_type": "markdown",
   "metadata": {},
   "source": [
    "Query Tensors"
   ]
  },
  {
   "cell_type": "code",
   "execution_count": 6,
   "metadata": {},
   "outputs": [],
   "source": [
    "# tensor = torch.load(f\"{meta_data_folder}query_tensors/AND_AND_801.pt\")   # low rank\n",
    "# tensor = torch.load(f\"{meta_data_folder}query_tensors/AND_OR_801.pt\")\n",
    "# tensor = torch.load(f\"{meta_data_folder}query_tensors/OR_AND_801.pt\")\n",
    "# tensor = torch.load(f\"{meta_data_folder}query_tensors/OR_OR_801.pt\")"
   ]
  },
  {
   "cell_type": "code",
   "execution_count": 7,
   "metadata": {},
   "outputs": [],
   "source": [
    "if (tensor is not None):\n",
    "    tensor = (tensor - tensor.min())/(tensor.max() - tensor.min())\n",
    "    for_queries = True"
   ]
  },
  {
   "cell_type": "markdown",
   "metadata": {},
   "source": [
    "Hyperparameter Tensors"
   ]
  },
  {
   "cell_type": "code",
   "execution_count": 8,
   "metadata": {},
   "outputs": [],
   "source": [
    "# tensor = torch.load(f\"{meta_data_folder}FCNN_Particle_ID_717.pt\")       # high rank\n",
    "# tensor = torch.load(f\"{meta_data_folder}FCNN_Spambase_717.pt\")\n",
    "\n",
    "\n",
    "# tensor = torch.load(f\"{meta_data_folder}GB_car_evaluation_709.pt\")      # low rank\n",
    "# original_tensor = torch.load(f\"{meta_data_folder}SVM_spambase_708.pt\")\n",
    "\n",
    "# tensor = torch.load(f\"{meta_data_folder}RF_Alzheimers_805.pt\")          # medium rank"
   ]
  },
  {
   "cell_type": "code",
   "execution_count": 9,
   "metadata": {},
   "outputs": [],
   "source": [
    "# t1 = torch.load(f\"{work_dir}meta_datasets/model_mode/RF_car_727.pt\")\n",
    "# t2 = torch.load(f\"{work_dir}meta_datasets/model_mode/DT_car_727.pt\")\n",
    "# t3 = torch.load(f\"{work_dir}meta_datasets/model_mode/GB_car_728.pt\")\n",
    "# t4 = torch.load(f\"{work_dir}meta_datasets/model_mode/ET_car_730.pt\")\n",
    "\n",
    "# tensor1 = torch.stack((t1, t2, t3, t4))\n",
    "\n",
    "# del t1, t2, t3, t4\n",
    "\n",
    "# t1 = torch.load(f\"{work_dir}meta_datasets/model_mode/RF_glass_728.pt\")\n",
    "# t2 = torch.load(f\"{work_dir}meta_datasets/model_mode/DT_glass_728.pt\")\n",
    "# t3 = torch.load(f\"{work_dir}meta_datasets/model_mode/GB_glass_728.pt\")\n",
    "# t4 = torch.load(f\"{work_dir}meta_datasets/model_mode/ET_glass_730.pt\")\n",
    "\n",
    "# tensor2 = torch.stack((t1, t2, t3, t4))\n",
    "\n",
    "# del t1, t2, t3, t4\n",
    "\n",
    "# t1 = torch.load(f\"{work_dir}meta_datasets/model_mode/RF_bodyPerformance_731.pt\")\n",
    "# t2 = torch.load(f\"{work_dir}meta_datasets/model_mode/DT_bodyPerformance_731.pt\")\n",
    "# t3 = torch.load(f\"{work_dir}meta_datasets/model_mode/GB_bodyPerformance_731.pt\")\n",
    "# t4 = torch.load(f\"{work_dir}meta_datasets/model_mode/ET_bodyPerformance_731.pt\")\n",
    "\n",
    "# tensor3 = torch.stack((t1, t2, t3, t4))\n",
    "\n",
    "# del t1, t2, t3, t4\n",
    "\n",
    "# t1 = torch.load(f\"{work_dir}meta_datasets/model_mode/RF_Dermatology_802.pt\")\n",
    "# t2 = torch.load(f\"{work_dir}meta_datasets/model_mode/DT_Dermatology_802.pt\")\n",
    "# t3 = torch.load(f\"{work_dir}meta_datasets/model_mode/GB_Dermatology_802.pt\")\n",
    "# t4 = torch.load(f\"{work_dir}meta_datasets/model_mode/ET_Dermatology_802.pt\")\n",
    "\n",
    "# tensor4 = torch.stack((t1, t2, t3, t4))\n",
    "\n",
    "# del t1, t2, t3, t4\n",
    "\n",
    "\n",
    "# tensor = torch.stack((tensor1, tensor2, tensor3, tensor4))\n",
    "\n",
    "# del tensor1, tensor2, tensor3, tensor4"
   ]
  },
  {
   "cell_type": "code",
   "execution_count": 10,
   "metadata": {},
   "outputs": [
    {
     "name": "stdout",
     "output_type": "stream",
     "text": [
      "Tensor shape: torch.Size([5, 8, 7, 8])\n",
      "2240 total cells in tensor.\n"
     ]
    }
   ],
   "source": [
    "print(f\"Tensor shape: {tensor.shape}\")\n",
    "total_cells = 1\n",
    "for s in tensor.shape: total_cells*=s\n",
    "\n",
    "print(f\"{total_cells} total cells in tensor.\")"
   ]
  },
  {
   "cell_type": "markdown",
   "metadata": {},
   "source": [
    "# Train & Evaluate"
   ]
  },
  {
   "cell_type": "code",
   "execution_count": 11,
   "metadata": {},
   "outputs": [],
   "source": [
    "portion = 0.025          # 0.025, 0.05, 0.075, 0.1\n",
    "\n",
    "num_iterations = 10      # 3, 5, 10"
   ]
  },
  {
   "cell_type": "code",
   "execution_count": 12,
   "metadata": {},
   "outputs": [],
   "source": [
    "lr = 5e-3\n",
    "wd = 1e-4\n",
    "num_epochs = 10000\n",
    "batch_size = 256\n",
    "\n",
    "cpd_rank = 3\n",
    "costco_rank = 25\n",
    "tuckER_rank = 3"
   ]
  },
  {
   "cell_type": "code",
   "execution_count": 13,
   "metadata": {},
   "outputs": [
    {
     "name": "stdout",
     "output_type": "stream",
     "text": [
      "Iteration: "
     ]
    },
    {
     "name": "stdout",
     "output_type": "stream",
     "text": [
      "1 2 3 4 5 6 7 8 9 10 \n",
      "All Done!\n"
     ]
    }
   ],
   "source": [
    "cpd_errors = list()\n",
    "costco_errors = list()\n",
    "tuckER_errors = list()\n",
    "\n",
    "ensemble_mlp_errors = list()\n",
    "ensemble_mlp2_errors = list()\n",
    "\n",
    "\n",
    "print('Iteration:', end = ' ')\n",
    "for it in range(num_iterations):\n",
    "    \n",
    "    sparse_tensor = get_sparse_tensor(t = tensor.clone(), portion = portion)\n",
    "    \n",
    "    model=train_tensor_completion(model_type = 'tuckER', \n",
    "                                  train_indices = sparse_tensor.indices().t(),\n",
    "                                  train_values = sparse_tensor.values(), \n",
    "                                  tensor_size = sparse_tensor.size(),\n",
    "                                  rank = tuckER_rank, \n",
    "                                  num_epochs = num_epochs, \n",
    "                                  batch_size = batch_size, \n",
    "                                  tucker_in_drop=0.15,\n",
    "                                  tucker_hidden_drop=0.25,\n",
    "                                  lr=lr, \n",
    "                                  wd=wd, \n",
    "                                  early_stopping = True, \n",
    "                                  flags = 15, \n",
    "                                  verbose = False, \n",
    "                                  epoch_display_rate = 1, \n",
    "                                  return_errors = False,\n",
    "                                  convert_to_cpd=False,\n",
    "                                  for_queries=for_queries)\n",
    "\n",
    "    it_tuckER_errors = get_unique_MAE(model = model,\n",
    "                                      full_t = tensor,\n",
    "                                      sparse_t = sparse_tensor,\n",
    "                                      return_errors = True)\n",
    "    del model\n",
    "\n",
    "\n",
    "    model=train_tensor_completion(model_type = 'cpd', \n",
    "                                  train_indices = sparse_tensor.indices().t(),\n",
    "                                  train_values = sparse_tensor.values(), \n",
    "                                  tensor_size = sparse_tensor.size(),\n",
    "                                  rank = cpd_rank, \n",
    "                                  num_epochs = num_epochs, \n",
    "                                  batch_size = batch_size, \n",
    "                                  lr=lr, \n",
    "                                  wd=wd, \n",
    "                                  early_stopping = True, \n",
    "                                  flags = 15, \n",
    "                                  verbose = False, \n",
    "                                  epoch_display_rate = 1, \n",
    "                                  return_errors = False,\n",
    "                                  for_queries=for_queries)\n",
    "\n",
    "    it_cpd_errors = get_unique_MAE(model = model,\n",
    "                                   full_t = tensor,\n",
    "                                   sparse_t = sparse_tensor,\n",
    "                                   return_errors = True)\n",
    "    del model\n",
    "\n",
    "\n",
    "    model=train_tensor_completion(model_type = 'costco', \n",
    "                                  train_indices = sparse_tensor.indices().t(),\n",
    "                                  train_values = sparse_tensor.values(), \n",
    "                                  tensor_size = sparse_tensor.size(),\n",
    "                                  rank = costco_rank, \n",
    "                                  num_epochs = num_epochs, \n",
    "                                  batch_size = batch_size, \n",
    "                                  lr=lr, \n",
    "                                  wd=wd, \n",
    "                                  early_stopping = True, \n",
    "                                  flags = 20, \n",
    "                                  verbose = False, \n",
    "                                  return_errors = False,\n",
    "                                  convert_to_cpd = False,\n",
    "                                  for_queries=for_queries)\n",
    "\n",
    "    it_costco_errors = get_unique_MAE(model = model,\n",
    "                                      full_t = tensor,\n",
    "                                      sparse_t = sparse_tensor,\n",
    "                                      return_errors = True)\n",
    "    del model\n",
    "\n",
    "\n",
    "\n",
    "# ___________________________________________ ensemble_model _______________________________________________________________________________________________\n",
    "\n",
    "    # good for high rank tensors (FCNN)\n",
    "    ensemble_model = ETC(sparse_tensor=sparse_tensor,\n",
    "                        models_type_rank = [\n",
    "                                            'cpd_3', 'cpd_5',\n",
    "                                            'tuckER_5'\n",
    "                                            ],\n",
    "                        num_splits=10,                   # train on all splits but one --> num_splits = 10 means train on 90% of data\n",
    "                        use_all_train_values = False,    # all models train on all data\n",
    "                        use_unique_train_values = False, # all models have unique data (doesn't do any good)\n",
    "                        mlp_hidden_dim1=128,             # first layer\n",
    "                        mlp_hidden_dim2=None,            # second layer (set to None if you don't want second layer)\n",
    "                        dropout_p=0.1,                   # dropout after MLP\n",
    "                        dropout_p_before_mlp = 0.0,      # dropout before MLP\n",
    "                        tucker_in_drop=0.15,\n",
    "                        tucker_hidden_drop=0.25,\n",
    "                        lr = lr,\n",
    "                        wd = wd,\n",
    "                        num_epochs = num_epochs,\n",
    "                        batch_size = batch_size,\n",
    "                        further_train_individuals = False,\n",
    "                        for_queries=for_queries).to(device)\n",
    "\n",
    "# __________________________________________________________________________________________________________________________________________________________\n",
    "\n",
    "    ensemble_model.set_agg_func('learned_mlp')          \n",
    "    ensemble_model = train_learned_ensemble(model = ensemble_model,\n",
    "                                            sparse_tensor = ensemble_model.sparse_tensor,\n",
    "                                            lr=lr,\n",
    "                                            wd=wd,\n",
    "                                            num_epochs=num_epochs,\n",
    "                                            batch_size=batch_size,\n",
    "                                            flags=20,\n",
    "                                            early_stopping=True,\n",
    "                                            verbose=False)\n",
    "\n",
    "\n",
    "    it_ensemble_mlp_errors = get_unique_MAE(model = ensemble_model,\n",
    "                                            full_t = tensor,\n",
    "                                            sparse_t = sparse_tensor,\n",
    "                                            return_errors = True)\n",
    "\n",
    "\n",
    "    del ensemble_model\n",
    "    \n",
    "    \n",
    "    # ___________________________________________ ensemble_model 2 _____________________________________________________________________________________________\n",
    "\n",
    "    # good for high rank tensors (FCNN)\n",
    "    ensemble_model = ETC(sparse_tensor=sparse_tensor,\n",
    "                        models_type_rank = [\n",
    "                                            'cpd_2', 'cpd_3'\n",
    "                                            # 'tuckER_3'\n",
    "                                            ],\n",
    "                        num_splits=10,                   # train on all splits but one --> num_splits = 10 means train on 90% of data\n",
    "                        use_all_train_values = False,    # all models train on all data\n",
    "                        use_unique_train_values = False, # all models have unique data (doesn't do any good)\n",
    "                        mlp_hidden_dim1=128,             # first layer\n",
    "                        mlp_hidden_dim2=None,            # second layer (set to None if you don't want second layer)\n",
    "                        dropout_p=0.1,                   # dropout after MLP\n",
    "                        dropout_p_before_mlp = 0.0,      # dropout before MLP\n",
    "                        tucker_in_drop=0.15,\n",
    "                        tucker_hidden_drop=0.25,\n",
    "                        lr = lr,\n",
    "                        wd = wd,\n",
    "                        num_epochs = num_epochs,\n",
    "                        batch_size = batch_size,\n",
    "                        further_train_individuals = False,\n",
    "                        for_queries=for_queries).to(device)\n",
    "# __________________________________________________________________________________________________________________________________________________________\n",
    "\n",
    "\n",
    "    ensemble_model.set_agg_func('learned_mlp')          \n",
    "    ensemble_model = train_learned_ensemble(model = ensemble_model,\n",
    "                                            sparse_tensor = ensemble_model.sparse_tensor,\n",
    "                                            lr=lr,\n",
    "                                            wd=wd,\n",
    "                                            num_epochs=num_epochs,\n",
    "                                            batch_size=batch_size,\n",
    "                                            flags=20,\n",
    "                                            early_stopping=True,\n",
    "                                            verbose=False)\n",
    "\n",
    "\n",
    "    it_ensemble_mlp2_errors = get_unique_MAE(model = ensemble_model,\n",
    "                                            full_t = tensor,\n",
    "                                            sparse_t = sparse_tensor,\n",
    "                                            return_errors = True)\n",
    "\n",
    "\n",
    "    del ensemble_model\n",
    "\n",
    "\n",
    "    cpd_errors += [it_cpd_errors]\n",
    "    costco_errors += [it_costco_errors]\n",
    "    tuckER_errors += [it_tuckER_errors]\n",
    "\n",
    "    ensemble_mlp_errors += [it_ensemble_mlp_errors]\n",
    "    ensemble_mlp2_errors += [it_ensemble_mlp2_errors]\n",
    "\n",
    "    del it_cpd_errors, it_costco_errors, it_tuckER_errors\n",
    "    del it_ensemble_mlp_errors, it_ensemble_mlp2_errors\n",
    "\n",
    "    print(it+1, end = ' ')\n",
    "\n",
    "\n",
    "cpd_errors =              np.array(cpd_errors)\n",
    "costco_errors =           np.array(costco_errors)\n",
    "tuckER_errors =           np.array(tuckER_errors)\n",
    "\n",
    "ensemble_mlp_errors =     np.array(ensemble_mlp_errors)\n",
    "ensemble_mlp2_errors =    np.array(ensemble_mlp2_errors)\n",
    "\n",
    "print(\"\\nAll Done!\")"
   ]
  },
  {
   "cell_type": "code",
   "execution_count": 14,
   "metadata": {},
   "outputs": [
    {
     "name": "stdout",
     "output_type": "stream",
     "text": [
      "CPD:      [0.202, 0.224, 0.225, 0.199, 0.179, 0.154, 0.216, 0.22, 0.181, 0.221]\n",
      "CoSTCo:   [0.074, 0.103, 0.105, 0.125, 0.112, 0.141, 0.092, 0.112, 0.1, 0.102]\n",
      "MLP:      [0.147, 0.147, 0.146, 0.213, 0.156, 0.15, 0.135, 0.165, 0.133, 0.14]\n",
      "MLP2:     [0.135, 0.124, 0.144, 0.134, 0.138, 0.104, 0.13, 0.149, 0.116, 0.106]\n"
     ]
    }
   ],
   "source": [
    "print(f'CPD:      {[np.round(x, 3) for x in cpd_errors.mean(axis=1)]}')\n",
    "print(f'CoSTCo:   {[np.round(x, 3) for x in costco_errors.mean(axis=1)]}')\n",
    "print(f'MLP:      {[np.round(x, 3) for x in ensemble_mlp_errors.mean(axis=1)]}')\n",
    "print(f'MLP2:     {[np.round(x, 3) for x in ensemble_mlp2_errors.mean(axis=1)]}')\n",
    "# print(f'MLP Diff: {[f\"{100*np.round(x, 2)}%\" for x in ((ensemble_mlp_errors.mean(axis=1) - ensemble_mlp2_errors.mean(axis=1))/ensemble_mlp_errors.mean(axis=1))]}')"
   ]
  },
  {
   "cell_type": "code",
   "execution_count": 15,
   "metadata": {},
   "outputs": [],
   "source": [
    "x = [\n",
    "     f'TuckER Rank {tuckER_rank} Error ({tuckER_errors.mean(axis=1).mean():.3f})',\n",
    "     f'CPD Rank {cpd_rank} Error ({cpd_errors.mean(axis=1).mean():.3f})',\n",
    "     f'CoSTCo Rank {costco_rank} Error ({costco_errors.mean(axis=1).mean():.3f})',\n",
    "     f'Ensemble (MLP) Error ({ensemble_mlp_errors.mean(axis=1).mean():.3f})',\n",
    "     f'Ensemble (MLP2) Error ({ensemble_mlp2_errors.mean(axis=1).mean():.3f})'\n",
    "     ]\n",
    "\n",
    "avgs = [\n",
    "        tuckER_errors.mean(axis=1).mean(),\n",
    "        cpd_errors.mean(axis=1).mean(),\n",
    "        costco_errors.mean(axis=1).mean(),\n",
    "        ensemble_mlp_errors.mean(axis=1).mean(), \n",
    "        ensemble_mlp2_errors.mean(axis=1).mean()\n",
    "        ]\n",
    "\n",
    "stds = [\n",
    "        tuckER_errors.mean(axis=1).std(),\n",
    "        cpd_errors.mean(axis=1).std(),\n",
    "        costco_errors.mean(axis=1).std(),\n",
    "        ensemble_mlp_errors.mean(axis=1).std(), \n",
    "        ensemble_mlp2_errors.mean(axis=1).std() \n",
    "        ]"
   ]
  },
  {
   "cell_type": "code",
   "execution_count": 24,
   "metadata": {},
   "outputs": [
    {
     "data": {
      "text/plain": [
       "'TuckER Rank 3'"
      ]
     },
     "execution_count": 24,
     "metadata": {},
     "output_type": "execute_result"
    }
   ],
   "source": [
    "x[0].split(\"Error\")[0][:-1]"
   ]
  },
  {
   "cell_type": "code",
   "execution_count": 34,
   "metadata": {},
   "outputs": [
    {
     "name": "stdout",
     "output_type": "stream",
     "text": [
      "TuckER Rank 3   | Mean: 0.2951 | Std: 0.0144\n",
      "CPD Rank 3      | Mean: 0.2021 | Std: 0.0227\n",
      "CoSTCo Rank 25  | Mean: 0.1067 | Std: 0.0172\n",
      "Ensemble (MLP)  | Mean: 0.1532 | Std: 0.0219\n",
      "Ensemble (MLP2) | Mean: 0.1280 | Std: 0.0145\n"
     ]
    }
   ],
   "source": [
    "f = lambda x, y = 15: str(x) + (\" \"*(y-len(str(x))))\n",
    "\n",
    "for i in range(len(x)):\n",
    "    print(f\"{f(x[i].split('Error')[0][:-1])} | Mean: {avgs[i]:.4f} | Std: {stds[i]:.4f}\")"
   ]
  },
  {
   "cell_type": "code",
   "execution_count": null,
   "metadata": {},
   "outputs": [
    {
     "data": {
      "image/png": "[encoded data removed]",
      "text/plain": [
       "<Figure size 1584x720 with 1 Axes>"
      ]
     },
     "metadata": {
      "needs_background": "light"
     },
     "output_type": "display_data"
    }
   ],
   "source": [
    "plt.figure(figsize=(22, 10))\n",
    "\n",
    "plt.bar(x, avgs)\n",
    "plt.errorbar(x, avgs, yerr=stds, fmt = '|', color='black', capsize=15)\n",
    "\n",
    "plt.title(f\"Avg & Std of MAE for {num_iterations} Iterations (Portion {portion})\")\n",
    "\n",
    "plt.ylabel('Mean Absolute Error (MAE)')\n",
    "plt.grid(axis='y', linestyle='-', alpha=0.3, zorder=0, color='black')\n",
    "\n",
    "# plt.yticks([ {y ticks you want} ])\n",
    "\n",
    "plt.ylim(0, 0.25)\n",
    "# plt.ylim(bottom = 0)\n",
    "\n",
    "\n",
    "plt.show()"
   ]
  }
 ],
 "metadata": {
  "kernelspec": {
   "display_name": "Python 3",
   "language": "python",
   "name": "python3"
  },
  "language_info": {
   "codemirror_mode": {
    "name": "ipython",
    "version": 3
   },
   "file_extension": ".py",
   "mimetype": "text/x-python",
   "name": "python",
   "nbconvert_exporter": "python",
   "pygments_lexer": "ipython3",
   "version": "3.6.8"
  }
 },
 "nbformat": 4,
 "nbformat_minor": 2
}
