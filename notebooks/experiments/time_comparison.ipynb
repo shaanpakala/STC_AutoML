{
 "cells": [
  {
   "cell_type": "markdown",
   "id": "d4d49c27",
   "metadata": {},
   "source": [
    "# Dependencies"
   ]
  },
  {
   "cell_type": "code",
   "execution_count": 1,
   "id": "35afede8",
   "metadata": {},
   "outputs": [
    {
     "name": "stdout",
     "output_type": "stream",
     "text": [
      "Device: cpu\n"
     ]
    }
   ],
   "source": [
    "import os\n",
    "import sys\n",
    "\n",
    "sys.path.append(os.getcwd().split('notebooks')[0])\n",
    "\n",
    "from notebooks.utilities.utils import *"
   ]
  },
  {
   "cell_type": "code",
   "execution_count": 2,
   "id": "8211dcde",
   "metadata": {},
   "outputs": [],
   "source": [
    "import time\n",
    "import random\n",
    "# import wandb\n",
    "import numpy as np\n",
    "from dotmap import DotMap\n",
    "import pandas as pd\n",
    "\n",
    "import torch\n",
    "import torch.nn as nn\n",
    "import torch.optim as optim\n",
    "\n",
    "from torch.utils.data import DataLoader\n",
    "\n",
    "import sys\n",
    "from notebooks.utilities.helper_functions import *\n",
    "\n",
    "from notebooks.tensor_completion_models.CoSTCo import *\n",
    "from notebooks.tensor_completion_models.CPD import *\n",
    "from notebooks.tensor_completion_models.tuckER import *\n",
    "from notebooks.tensor_completion_models.ETC import *\n",
    "\n",
    "import matplotlib.pyplot as plt\n",
    "from sklearn.utils.validation import check_random_state\n",
    "import tensorly as tl\n",
    "from torch.nn.init import xavier_normal_\n",
    "\n",
    "from sklearn.metrics import mean_absolute_error as MAE\n",
    "from sklearn.metrics import mean_squared_error as MSE\n",
    "from sklearn.model_selection import train_test_split, KFold"
   ]
  },
  {
   "cell_type": "code",
   "execution_count": 3,
   "id": "91a01f31",
   "metadata": {},
   "outputs": [
    {
     "name": "stdout",
     "output_type": "stream",
     "text": [
      "Device: cpu\n"
     ]
    }
   ],
   "source": [
    "device = \"cuda\" if torch.cuda.is_available() else \"cpu\"\n",
    "print(f\"Device: {device}\")"
   ]
  },
  {
   "cell_type": "markdown",
   "id": "7c34d6db",
   "metadata": {},
   "source": [
    "# Load Tensor"
   ]
  },
  {
   "cell_type": "markdown",
   "id": "5fa3bb5e",
   "metadata": {},
   "source": [
    "### Preliminaries"
   ]
  },
  {
   "cell_type": "code",
   "execution_count": 4,
   "id": "9c3536fa",
   "metadata": {},
   "outputs": [],
   "source": [
    "original_tensor = None\n",
    "for_queries = False\n",
    "file = None"
   ]
  },
  {
   "cell_type": "markdown",
   "id": "0919dd80",
   "metadata": {},
   "source": [
    "### Query Tensors"
   ]
  },
  {
   "cell_type": "code",
   "execution_count": 5,
   "id": "0d3e9f03",
   "metadata": {},
   "outputs": [],
   "source": [
    "# file = \"AND_AND_801\"\n",
    "# file = \"AND_OR_801\"\n",
    "# file = \"OR_AND_801\"\n",
    "# file = \"OR_OR_801\"\n",
    "\n",
    "# file = \"AND_AND_distinct_817\"\n",
    "# file = \"AND_OR_distinct_817\"\n",
    "# file = \"OR_AND_distinct_817\"\n",
    "# file = \"OR_OR_distinct_817\"\n",
    "\n",
    "\n",
    "if (file is not None):\n",
    "    file = 'query_tensors/' + file\n",
    "    original_tensor = torch.load(f\"{meta_data_folder}{file}.pt\")"
   ]
  },
  {
   "cell_type": "code",
   "execution_count": 6,
   "id": "b0219d23",
   "metadata": {},
   "outputs": [],
   "source": [
    "if (original_tensor is not None):\n",
    "    original_tensor = (original_tensor - original_tensor.min())/(original_tensor.max() - original_tensor.min())\n",
    "    for_queries = True"
   ]
  },
  {
   "cell_type": "markdown",
   "id": "95ac4174",
   "metadata": {},
   "source": [
    "### Hyperparameter Tensors"
   ]
  },
  {
   "cell_type": "code",
   "execution_count": 7,
   "id": "9c53ed63",
   "metadata": {},
   "outputs": [],
   "source": [
    "# file = \"non_deep/SVM_Dermatology_828\"           # trivial but CoSTCo still slightly better than naive\n",
    "# file = \"non_deep/RF_Dermatology_828\"            # good one\n",
    "# file = \"non_deep/ET_Dermatology_828\"            # good one\n",
    "# file = \"non_deep/DT_Dermatology_828\"\n",
    "file = \"non_deep/KNN_car_evaluation_828\"        # pretty good one (~ 4000 cells too)\n",
    "# file = \"non_deep/DT_Spambase_829\"               # good one\n",
    "# file = \"non_deep/RF_Spambase_829\"               # good one\n",
    "# file = \"non_deep/ET_Spambase_829\"               # good one\n",
    "# file = \"non_deep/GB_Spambase_829\"               # good one\n",
    "# file = \"non_deep/KNN_Spambase_829\"              # trivial but CoSTCo still slightly better than naive\n",
    "\n",
    "# file = \"non_deep/SVM_Biodeg_905\"                # pretty decent\n",
    "# file = \"non_deep/SVM_Dermatology_905\"           # great !\n",
    "# file = \"non_deep/SVM_Alzheimers_905\"              \n",
    "\n",
    "# file = \"non_deep/KNN_Alzheimers_902\"            # good one\n",
    "# file = \"non_deep/KNN_Glass_902\"                 # eh\n",
    "# file = \"non_deep/KNN_Dermatology_903\"           # bad"
   ]
  },
  {
   "cell_type": "code",
   "execution_count": 8,
   "id": "95ba1f6f",
   "metadata": {},
   "outputs": [],
   "source": [
    "# original_tensor = torch.stack((torch.load(f\"{meta_data_folder}non_deep/DT_Spambase_829.pt\"),\n",
    "#                                torch.load(f\"{meta_data_folder}non_deep/RF_Spambase_829.pt\"),\n",
    "#                                torch.load(f\"{meta_data_folder}non_deep/ET_Spambase_829.pt\"),\n",
    "#                                torch.load(f\"{meta_data_folder}non_deep/GB_Spambase_829.pt\")))\n",
    "\n",
    "# original_tensor = original_tensor[:, :, 0, :, :, :].clone()          # very good one"
   ]
  },
  {
   "cell_type": "markdown",
   "id": "420bad41",
   "metadata": {},
   "source": [
    "### Deep Learning Tensors"
   ]
  },
  {
   "cell_type": "code",
   "execution_count": 9,
   "id": "3a38838a",
   "metadata": {},
   "outputs": [],
   "source": [
    "# file = \"deep_learning/FCNN_biodeg_828\"              # maybe... (CoSTCo is barely better than naive median)\n",
    "# file = \"deep_learning/FCNN_Dermatology_829\"         # good one\n",
    "# file = \"deep_learning/FCNN_glass_902\"               # maybe... (CoSTCo is barely better than naive median)\n",
    "\n",
    "# file = \"deep_learning/FCNN_Spambase_902\"            # eh\n",
    "# file = \"deep_learning/FCNN_Particle_ID_903_02\"      # decent !\n",
    "# file = \"deep_learning/FCNN_Alzheimers_902\"          # bad\n",
    "# file = \"deep_learning/FCNN_car_evaluation_903\"      # pretty decent\n",
    "# file = \"deep_learning/FCNN_Dermatology_903\"         # interesting (good way)\n",
    "\n",
    "# file = \"deep_learning/FCNN_Spambase_905_50\""
   ]
  },
  {
   "cell_type": "code",
   "execution_count": 10,
   "id": "8658c7a8",
   "metadata": {},
   "outputs": [],
   "source": [
    "# original_tensor = torch.stack((torch.load(f\"{meta_data_folder}deep_learning/FCNN_Spambase_902.pt\"),\n",
    "#                                torch.load(f\"{meta_data_folder}deep_learning/FCNN_Particle_ID_903_02.pt\"),\n",
    "#                                torch.load(f\"{meta_data_folder}deep_learning/FCNN_Alzheimers_902.pt\"),\n",
    "#                                torch.load(f\"{meta_data_folder}deep_learning/FCNN_car_evaluation_903.pt\"),\n",
    "#                                torch.load(f\"{meta_data_folder}deep_learning/FCNN_Dermatology_903.pt\")))\n",
    "# # very nice !"
   ]
  },
  {
   "cell_type": "code",
   "execution_count": 11,
   "id": "b65c941e",
   "metadata": {},
   "outputs": [
    {
     "name": "stdout",
     "output_type": "stream",
     "text": [
      "File Name: KNN_car_evaluation_828\n"
     ]
    }
   ],
   "source": [
    "if (file is not None): \n",
    "    \n",
    "    if (original_tensor is None): \n",
    "        original_tensor = torch.load(f\"{meta_data_folder}{file}.pt\")\n",
    "    \n",
    "    file = file.split('/')[-1]\n",
    "    print(f\"File Name: {file}\")"
   ]
  },
  {
   "cell_type": "markdown",
   "id": "4c3ee5d5",
   "metadata": {},
   "source": [
    "### Looking at Tensor"
   ]
  },
  {
   "cell_type": "code",
   "execution_count": 12,
   "id": "5b981b96",
   "metadata": {},
   "outputs": [
    {
     "data": {
      "image/png": "[encoded data removed]",
      "text/plain": [
       "<Figure size 640x480 with 1 Axes>"
      ]
     },
     "metadata": {},
     "output_type": "display_data"
    }
   ],
   "source": [
    "plt.hist([float(x) for x in original_tensor.flatten()], bins = 30)\n",
    "plt.xlim(0, 1)\n",
    "plt.xticks([original_tensor.min(), original_tensor.max()])\n",
    "plt.show()"
   ]
  },
  {
   "cell_type": "code",
   "execution_count": 13,
   "id": "f635c087",
   "metadata": {},
   "outputs": [
    {
     "data": {
      "image/png": "[encoded data removed]",
      "text/plain": [
       "<Figure size 640x480 with 1 Axes>"
      ]
     },
     "metadata": {},
     "output_type": "display_data"
    }
   ],
   "source": [
    "plt.boxplot([float(x) for x in original_tensor.flatten()])\n",
    "plt.ylim(0, 1)\n",
    "plt.show()"
   ]
  },
  {
   "cell_type": "code",
   "execution_count": 14,
   "id": "d7c9253f",
   "metadata": {},
   "outputs": [
    {
     "data": {
      "text/plain": [
       "torch.Size([3, 7, 2, 9, 11])"
      ]
     },
     "execution_count": 14,
     "metadata": {},
     "output_type": "execute_result"
    }
   ],
   "source": [
    "original_tensor.shape"
   ]
  },
  {
   "cell_type": "code",
   "execution_count": 15,
   "id": "1089d1a1",
   "metadata": {},
   "outputs": [
    {
     "name": "stdout",
     "output_type": "stream",
     "text": [
      "Tensor shape: torch.Size([3, 7, 2, 9, 11])\n",
      "4158 total cells in tensor.\n"
     ]
    }
   ],
   "source": [
    "print(f\"Tensor shape: {original_tensor.shape}\")\n",
    "total_cells = 1\n",
    "for s in original_tensor.shape: total_cells*=s\n",
    "\n",
    "print(f\"{total_cells} total cells in tensor.\")"
   ]
  },
  {
   "cell_type": "markdown",
   "id": "53d9c467",
   "metadata": {},
   "source": [
    "# Train & Evaluate"
   ]
  },
  {
   "cell_type": "markdown",
   "id": "577c850a",
   "metadata": {},
   "source": [
    "### Some Training Configurations"
   ]
  },
  {
   "cell_type": "code",
   "execution_count": 16,
   "id": "8cea8579",
   "metadata": {},
   "outputs": [],
   "source": [
    "num_epochs = 10000\n",
    "batch_size = 256\n",
    "lr = 5e-3\n",
    "wd = 1e-4\n",
    "val_size = 0.2\n",
    "\n",
    "num_iterations = 5\n",
    "\n",
    "portions = [0.01, 0.025, 0.05, 0.1]"
   ]
  },
  {
   "cell_type": "markdown",
   "id": "3f1901a2",
   "metadata": {},
   "source": [
    "### Make Portion Graphs"
   ]
  },
  {
   "cell_type": "markdown",
   "id": "894c4bd4",
   "metadata": {},
   "source": [
    "##### Function"
   ]
  },
  {
   "cell_type": "code",
   "execution_count": 17,
   "id": "533a1864",
   "metadata": {},
   "outputs": [
    {
     "name": "stdout",
     "output_type": "stream",
     "text": [
      "Portion 0.01 iteration: 1, 2, 3, 4, 5\n",
      "Portion 0.025 iteration: 1, 2, 3, 4, 5\n",
      "Portion 0.05 iteration: 1, 2, 3, 4, 5\n",
      "Portion 0.1 iteration: 1, 2, 3, 4, 5\n",
      "\n",
      "All done!\n"
     ]
    }
   ],
   "source": [
    "all_times = list()\n",
    "\n",
    "for portion in portions:\n",
    "\n",
    "        it_times = list()\n",
    "        \n",
    "        print(f\"Portion {portion} iteration:\", end = \" \")\n",
    "        for it in range(1, num_iterations+1):\n",
    "                \n",
    "                sparse_tensor = get_sparse_tensor(t = original_tensor.clone(),\n",
    "                                                portion = portion,\n",
    "                                                verbose = False)\n",
    "                \n",
    "                        \n",
    "                model_times = list()\n",
    "                \n",
    "# _________________________________________________________________________________________________________________________________________________________________\n",
    "\n",
    "                \n",
    "                start_time = time.time()\n",
    "                \n",
    "                model = train_tensor_completion(model_type = 'cpd.smooth',\n",
    "                                                sparse_tensor = sparse_tensor,\n",
    "                                                rank = 3,\n",
    "                                                num_epochs = num_epochs,\n",
    "                                                batch_size = batch_size,\n",
    "                                                lr = lr,\n",
    "                                                wd = wd,\n",
    "                                                early_stopping = True,\n",
    "                                                flags = 15,\n",
    "                                                val_size = 0.2,\n",
    "                                                convert_to_cpd = False,\n",
    "                                                for_queries = for_queries,\n",
    "                                                device = device)\n",
    "                \n",
    "                \n",
    "                s = get_unique_MAE(model = model,\n",
    "                                   full_t = original_tensor.clone(),\n",
    "                                   sparse_t = sparse_tensor.clone(),\n",
    "                                   return_errors = False,\n",
    "                                   return_indices = False,\n",
    "                                   device = device)\n",
    "                \n",
    "                \n",
    "                model_times += [time.time() - start_time]\n",
    "                \n",
    "                del model, s, start_time\n",
    "\n",
    "# _________________________________________________________________________________________________________________________________________________________________\n",
    "                \n",
    "                start_time = time.time()\n",
    "                \n",
    "                model = train_tensor_completion(model_type = 'costco',\n",
    "                                                sparse_tensor = sparse_tensor,\n",
    "                                                rank = 32,\n",
    "                                                num_epochs = num_epochs,\n",
    "                                                batch_size = batch_size,\n",
    "                                                lr = lr,\n",
    "                                                wd = wd,\n",
    "                                                early_stopping = True,\n",
    "                                                flags = 15,\n",
    "                                                val_size = 0.2,\n",
    "                                                convert_to_cpd = False,\n",
    "                                                for_queries = for_queries,\n",
    "                                                device = device)\n",
    "                \n",
    "                \n",
    "                s = get_unique_MAE(model = model,\n",
    "                                   full_t = original_tensor.clone(),\n",
    "                                   sparse_t = sparse_tensor.clone(),\n",
    "                                   return_errors = False,\n",
    "                                   return_indices = False,\n",
    "                                   device = device)\n",
    "                \n",
    "                \n",
    "                model_times += [time.time() - start_time]\n",
    "                \n",
    "                del model, s, start_time\n",
    "                \n",
    "\n",
    "# _________________________________________________________________________________________________________________________________________________________________\n",
    "                \n",
    "                start_time = time.time()                \n",
    "                \n",
    "                model = ETC(sparse_tensor = sparse_tensor,\n",
    "                        models_type_rank = [\n",
    "                                        'cpd.smooth_1', 'cpd.smooth_3', 'cpd.smooth_5', 'cpd.smooth_10'\n",
    "                                        ],\n",
    "                        \n",
    "                        num_splits = 10,\n",
    "                        mlp_hidden_dim1 = 128,\n",
    "                        agg_func = 'mlp',\n",
    "                        dropout_p = 0.0,\n",
    "                        dropout_p_before_mlp = 0.0,\n",
    "                        lr = lr,\n",
    "                        wd = wd,\n",
    "                        num_epochs = num_epochs,\n",
    "                        batch_size = batch_size,\n",
    "                        for_queries = for_queries,\n",
    "                        device = device)\n",
    "                \n",
    "                p_time = (time.time() - start_time)/4\n",
    "                \n",
    "                del start_time\n",
    "                \n",
    "                start_time = time.time()                          \n",
    "                \n",
    "                model = train_learned_ensemble(model = model,\n",
    "                                                sparse_tensor = sparse_tensor,\n",
    "                                                lr = lr,\n",
    "                                                wd = wd,\n",
    "                                                num_epochs = num_epochs,\n",
    "                                                batch_size = batch_size,\n",
    "                                                flags = 50,\n",
    "                                                early_stopping = True,\n",
    "                                                val_size = 0.2,\n",
    "                                                device = device)\n",
    "                \n",
    "                \n",
    "                s = get_unique_MAE(model = model,\n",
    "                                   full_t = original_tensor.clone(),\n",
    "                                   sparse_t = sparse_tensor.clone(),\n",
    "                                   return_errors = False,\n",
    "                                   return_indices = False,\n",
    "                                   device = device)\n",
    "                \n",
    "                \n",
    "                model_times += [(time.time() - start_time) + p_time]\n",
    "                \n",
    "                del model, s, start_time\n",
    "\n",
    "# _________________________________________________________________________________________________________________________________________________________________\n",
    "\n",
    "                it_times +=[model_times]\n",
    "\n",
    "                if (it == num_iterations): print(it)\n",
    "                else: print(it, end = \", \")\n",
    "\n",
    "        all_times += [it_times]\n",
    "\n",
    "all_times = np.array(all_times)\n",
    "\n",
    "print(\"\\nAll done!\")"
   ]
  },
  {
   "cell_type": "code",
   "execution_count": 18,
   "id": "d5328351",
   "metadata": {},
   "outputs": [],
   "source": [
    "labels = ['CPD-S', 'CoSTCo', 'CPD-S Ensemble']"
   ]
  },
  {
   "cell_type": "code",
   "execution_count": 19,
   "id": "fe82b12c",
   "metadata": {},
   "outputs": [],
   "source": [
    "avgs = all_times.mean(axis = 1)\n",
    "stds = all_times.std(axis = 1)"
   ]
  },
  {
   "cell_type": "code",
   "execution_count": 20,
   "id": "a6da1d6c",
   "metadata": {},
   "outputs": [],
   "source": [
    "df = list()\n",
    "\n",
    "for i in range(avgs.shape[0]):\n",
    "    row = list()\n",
    "    for j in range(avgs.shape[1]):\n",
    "        \n",
    "        row += [f\"{avgs[i, j]:.3f} $\\pm$ {stds[i, j]:.2f}\"]\n",
    "        \n",
    "    df += [row]"
   ]
  },
  {
   "cell_type": "code",
   "execution_count": 21,
   "id": "da38b3fe",
   "metadata": {},
   "outputs": [
    {
     "name": "stdout",
     "output_type": "stream",
     "text": [
      "\\begin{tabular}{lll}\n",
      "\\toprule\n",
      "0 & 1 & 2 \\\\\n",
      "\\midrule\n",
      "0.635 $\\pm$ 0.29 & 0.447 $\\pm$ 0.07 & 0.737 $\\pm$ 0.20 \\\\\n",
      "1.835 $\\pm$ 1.48 & 1.113 $\\pm$ 0.12 & 2.346 $\\pm$ 1.06 \\\\\n",
      "2.836 $\\pm$ 1.33 & 6.143 $\\pm$ 3.10 & 2.612 $\\pm$ 0.25 \\\\\n",
      "1.133 $\\pm$ 0.10 & 116.460 $\\pm$ 4.79 & 1.479 $\\pm$ 0.11 \\\\\n",
      "\\bottomrule\n",
      "\\end{tabular}\n",
      "\n"
     ]
    }
   ],
   "source": [
    "print(pd.DataFrame(np.array(df)).to_latex(index = False))"
   ]
  },
  {
   "cell_type": "code",
   "execution_count": null,
   "id": "4fcfc65e",
   "metadata": {},
   "outputs": [],
   "source": []
  }
 ],
 "metadata": {
  "kernelspec": {
   "display_name": "Python 3 (ipykernel)",
   "language": "python",
   "name": "python3"
  },
  "language_info": {
   "codemirror_mode": {
    "name": "ipython",
    "version": 3
   },
   "file_extension": ".py",
   "mimetype": "text/x-python",
   "name": "python",
   "nbconvert_exporter": "python",
   "pygments_lexer": "ipython3",
   "version": "3.11.3"
  }
 },
 "nbformat": 4,
 "nbformat_minor": 5
}
